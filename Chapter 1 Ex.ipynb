{
 "cells": [
  {
   "cell_type": "markdown",
   "id": "f452e1ce-75cf-42b4-94ce-2759786575cf",
   "metadata": {},
   "source": [
    "# Excercise 1 "
   ]
  },
  {
   "cell_type": "code",
   "execution_count": 1,
   "id": "1eb914be-e4de-4e24-843a-5036455bcd9a",
   "metadata": {},
   "outputs": [
    {
     "name": "stdout",
     "output_type": "stream",
     "text": [
      "this is a test of the Python interpreter.\n"
     ]
    }
   ],
   "source": [
    "print('this is a test of the Python interpreter.')"
   ]
  },
  {
   "cell_type": "code",
   "execution_count": 2,
   "id": "1eb3b0e7-8e85-44ec-aec9-758d5010f9d8",
   "metadata": {},
   "outputs": [
    {
     "name": "stdout",
     "output_type": "stream",
     "text": [
      "This is a test of IDLE.\n"
     ]
    }
   ],
   "source": [
    "print('This is a test of IDLE.') "
   ]
  },
  {
   "cell_type": "markdown",
   "id": "67aecf29-d20c-4325-b378-c4e73307ad8c",
   "metadata": {},
   "source": [
    "## Some more for Excercise 1"
   ]
  },
  {
   "cell_type": "code",
   "execution_count": 3,
   "id": "35c61899-e455-4681-b4db-43b0a79c63f6",
   "metadata": {},
   "outputs": [
    {
     "name": "stdout",
     "output_type": "stream",
     "text": [
      "Hello world\n"
     ]
    }
   ],
   "source": [
    "print('Hello world')"
   ]
  },
  {
   "cell_type": "code",
   "execution_count": 4,
   "id": "7b10de4c-569c-440a-90c4-4b0d3fe4e7f8",
   "metadata": {},
   "outputs": [
    {
     "name": "stdout",
     "output_type": "stream",
     "text": [
      "this is excercise 1 of chapter 1 completed\n"
     ]
    }
   ],
   "source": [
    "print('this is excercise 1 of chapter 1 completed')"
   ]
  },
  {
   "cell_type": "markdown",
   "id": "b466f146-5d61-449a-bc21-acb64ed1dfc2",
   "metadata": {},
   "source": [
    "# Excercise 3 "
   ]
  },
  {
   "cell_type": "markdown",
   "id": "73ae9889-9c63-42b3-b8f6-9b1237b0efe9",
   "metadata": {},
   "source": [
    "We see in 1.3 of Chapter 1 on how to convert a decimal number to binary. Start by finding the largest power of 2 into the number, then subtract this value and repeat with remainder until you reach zero. Below is the the ones asked to convert.\n",
    "\n",
    "11-8(2^3) = 3 \n",
    "3-2(2^1) = 1 \n",
    "1-1(2^0) = 0 \n",
    "Binary: 1011 \n",
    "\n",
    "65-64(2^6) = 1\n",
    "1-1(2^0) = 0\n",
    "Binary: 1000001\n",
    "\n",
    "100-64(2^6) = 36 \n",
    "36-32(2^5) = 4 \n",
    "4-4(2^2) = 0 \n",
    "Binary: 1100100 \n",
    "\n",
    "255-228(2^7) = 127\n",
    "127-64(2^6) = 63 \n",
    "63-32(2^5) = 31\n",
    "31-16(2^4) = 15 \n",
    "15 - 8(2^3) = 7\n",
    "7-4 (2^2) = 3 \n",
    "3-2(2^1) = 1\n",
    "1-1(2^0) = 0 \n",
    "Binary: 11111111"
   ]
  },
  {
   "cell_type": "markdown",
   "id": "a41a454e-705c-462c-897e-922ca1d77bf4",
   "metadata": {},
   "source": [
    "# Excercise 6"
   ]
  },
  {
   "cell_type": "markdown",
   "id": "1c1dec9f-fe4e-47da-870c-078cf3ffe74b",
   "metadata": {},
   "source": [
    "Using the internet Python was created by Guido Van Rossum, who was a dutch programmer and it originally started as a project in December 1989 as a hobby during the holidays. Version 1.0 of Python was made in February 1991. In the programming community, Guido Van Rossum is often reffered to as the \"BDFL,\" which stand for \"Benevolent Dictator for Life.\" This \"title\" shows off his long term role in guiding development of Python. "
   ]
  }
 ],
 "metadata": {
  "kernelspec": {
   "display_name": "Python 3 (ipykernel)",
   "language": "python",
   "name": "python3"
  },
  "language_info": {
   "codemirror_mode": {
    "name": "ipython",
    "version": 3
   },
   "file_extension": ".py",
   "mimetype": "text/x-python",
   "name": "python",
   "nbconvert_exporter": "python",
   "pygments_lexer": "ipython3",
   "version": "3.11.7"
  }
 },
 "nbformat": 4,
 "nbformat_minor": 5
}
