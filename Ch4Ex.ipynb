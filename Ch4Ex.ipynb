{
 "cells": [
  {
   "cell_type": "markdown",
   "id": "636ae117-82c5-4805-be46-109bbeec0102",
   "metadata": {},
   "source": [
    "Algorithm Workbench (Question 3 & Question 4)"
   ]
  },
  {
   "cell_type": "markdown",
   "id": "fe0e2740-e971-4d0f-93cb-f36857b8c70f",
   "metadata": {},
   "source": [
    "Question 3\n",
    "Write a for loop that displays the following set of numbers: \n",
    "0,10,20,30,40,50 . . . 1000"
   ]
  },
  {
   "cell_type": "code",
   "execution_count": 9,
   "id": "2759219d-05eb-41d1-9525-2c5bc46b41fe",
   "metadata": {},
   "outputs": [
    {
     "name": "stdout",
     "output_type": "stream",
     "text": [
      "0\n",
      "10\n",
      "20\n",
      "30\n",
      "40\n",
      "50\n",
      "60\n",
      "70\n",
      "80\n",
      "90\n",
      "100\n",
      "110\n",
      "120\n",
      "130\n",
      "140\n",
      "150\n",
      "160\n",
      "170\n",
      "180\n",
      "190\n",
      "200\n",
      "210\n",
      "220\n",
      "230\n",
      "240\n",
      "250\n",
      "260\n",
      "270\n",
      "280\n",
      "290\n",
      "300\n",
      "310\n",
      "320\n",
      "330\n",
      "340\n",
      "350\n",
      "360\n",
      "370\n",
      "380\n",
      "390\n",
      "400\n",
      "410\n",
      "420\n",
      "430\n",
      "440\n",
      "450\n",
      "460\n",
      "470\n",
      "480\n",
      "490\n",
      "500\n",
      "510\n",
      "520\n",
      "530\n",
      "540\n",
      "550\n",
      "560\n",
      "570\n",
      "580\n",
      "590\n",
      "600\n",
      "610\n",
      "620\n",
      "630\n",
      "640\n",
      "650\n",
      "660\n",
      "670\n",
      "680\n",
      "690\n",
      "700\n",
      "710\n",
      "720\n",
      "730\n",
      "740\n",
      "750\n",
      "760\n",
      "770\n",
      "780\n",
      "790\n",
      "800\n",
      "810\n",
      "820\n",
      "830\n",
      "840\n",
      "850\n",
      "860\n",
      "870\n",
      "880\n",
      "890\n",
      "900\n",
      "910\n",
      "920\n",
      "930\n",
      "940\n",
      "950\n",
      "960\n",
      "970\n",
      "980\n",
      "990\n",
      "1000\n"
     ]
    }
   ],
   "source": [
    "# Loop through a range of numbers from 0 to 1000 with a step of 10\n",
    "for i in range(0, 1001, 10):\n",
    "    # Print the current number in the sequence\n",
    "    print(i)"
   ]
  },
  {
   "cell_type": "markdown",
   "id": "c612a097-3def-4720-8982-44f1b86ef4bc",
   "metadata": {},
   "source": [
    "Above we have the starting value (0), the stopping value (1001)(it ends one before), and the step value (10). As you can see its spaced in increments of 10  "
   ]
  },
  {
   "cell_type": "markdown",
   "id": "77d4c501-2801-4df2-a6fe-25bbfff1ccce",
   "metadata": {},
   "source": [
    "Question 4 \n",
    "Write a loop that asks the user to enter the number. the loop should iterate 10 times and keep a running total of the number entered"
   ]
  },
  {
   "cell_type": "code",
   "execution_count": 6,
   "id": "643250d6-e4d6-45dc-bd09-c5155bb23810",
   "metadata": {},
   "outputs": [
    {
     "name": "stdin",
     "output_type": "stream",
     "text": [
      "Enter a number:  5\n",
      "Enter a number:  10\n",
      "Enter a number:  12\n",
      "Enter a number:  20\n",
      "Enter a number:  13\n",
      "Enter a number:  34\n",
      "Enter a number:  16\n",
      "Enter a number:  26\n",
      "Enter a number:  22\n",
      "Enter a number:  9\n"
     ]
    },
    {
     "name": "stdout",
     "output_type": "stream",
     "text": [
      "The running total of the numbers entered is: 167.0\n"
     ]
    }
   ],
   "source": [
    "# Initialize the total to 0\n",
    "total = 0\n",
    "\n",
    "# Loop 10 times to get 10 numbers from the user\n",
    "for _ in range(10):\n",
    "    # Prompt the user to enter a number and convert it to a float\n",
    "    number = float(input(\"Enter a number: \"))\n",
    "    # Add the entered number to the running total\n",
    "    total += number\n",
    "\n",
    "# Print the running total of the numbers entered\n",
    "print(f\"The running total of the numbers entered is: {total}\")"
   ]
  },
  {
   "cell_type": "markdown",
   "id": "e84708b8-ec20-437d-b190-2a86f8b078d8",
   "metadata": {},
   "source": [
    "Again you can see above the code entered works since the range is 10 and you the total to the number which is what you input. Lastly you print a string then the final total calculated"
   ]
  },
  {
   "cell_type": "markdown",
   "id": "14faefb6-0766-4725-8cf4-90affdd9582b",
   "metadata": {},
   "source": [
    "Programming Excercises Questions 1,4,13, and 14"
   ]
  },
  {
   "cell_type": "markdown",
   "id": "baf0a606-d9a0-448b-a99e-8ec6a194820c",
   "metadata": {},
   "source": [
    "Programming Excercises - Question 1\n",
    "A bug collector collects bugs every day for five days. Write a program that keeps a running total of the number of bugs collected during the five days. The loop should ask for the number of bugs collected for each day, and when the loop is finished, the program should display the total number of bugs collected. "
   ]
  },
  {
   "cell_type": "code",
   "execution_count": 3,
   "id": "f2b3d0e5-b544-41a0-8b6e-35e7c037e4b0",
   "metadata": {},
   "outputs": [
    {
     "name": "stdin",
     "output_type": "stream",
     "text": [
      "Enter the number of bugs collected on day 1:  18\n",
      "Enter the number of bugs collected on day 2:  12\n",
      "Enter the number of bugs collected on day 3:  6\n",
      "Enter the number of bugs collected on day 4:  7\n",
      "Enter the number of bugs collected on day 5:  14\n"
     ]
    },
    {
     "name": "stdout",
     "output_type": "stream",
     "text": [
      "The total number of bugs collected over five days is: 57\n"
     ]
    }
   ],
   "source": [
    "# Initialize the total number of bugs collected to 0\n",
    "total_bugs = 0\n",
    "\n",
    "# Loop over a range of 5 days (from 1 to 5)\n",
    "for day in range(1, 6):\n",
    "    # Ask the user to input the number of bugs collected for the current day\n",
    "    bugs_collected = int(input(f\"Enter the number of bugs collected on day {day}: \"))\n",
    "    # Add the number of bugs collected today to the running total\n",
    "    total_bugs += bugs_collected\n",
    "\n",
    "# After the loop, print the total number of bugs collected over five days\n",
    "print(f\"The total number of bugs collected over five days is: {total_bugs}\")"
   ]
  },
  {
   "cell_type": "markdown",
   "id": "85a7ef3f-d718-493d-ad42-2eab511402a4",
   "metadata": {},
   "source": [
    "First, above we see that we have to initialize the number of bugs from 0, then create a range from 1 to 5, then a string to question and input our variable, next we add up the bugs collected to get the total bugs over 5 days then you print your final result into a string. "
   ]
  },
  {
   "cell_type": "markdown",
   "id": "70b30107-4e50-4380-ab49-f32f53a7efaf",
   "metadata": {},
   "source": [
    "Programming Excercises - Question 4\n",
    "the distance a vehicle travels can be calculated as follows:\n",
    "distance = speed x time \n",
    "\n",
    "For Example, if a train travels 40 miles per hour for three hours, the distance traveled is 120 miles. Write a program that asks the user for the speed of a vechile (in miles per hour) ans the number of hours it has traveled. It should then use a loop to display the disctance the vechile has traveled wfor each hour of that time period. Here is an example of the desired output: \n",
    "\n",
    "What is the speed of the vehicle in mph? 40 [Enter]\n",
    "How many hours has it traveled? 3 [Enter]\n",
    "Hour_____________________Distance Traveled\n",
    "1                               40\n",
    "2                               80\n",
    "3                               120"
   ]
  },
  {
   "cell_type": "code",
   "execution_count": 6,
   "id": "7b1e1917-2fe3-4d76-9202-36858ad0e6d5",
   "metadata": {},
   "outputs": [
    {
     "name": "stdin",
     "output_type": "stream",
     "text": [
      "What is the speed of the vehicle in mph?  35\n",
      "How many hours has it traveled?  2\n"
     ]
    },
    {
     "name": "stdout",
     "output_type": "stream",
     "text": [
      "Hour\tDistance Traveled\n",
      "-------------------------\n",
      "1\t35.0\n",
      "2\t70.0\n"
     ]
    }
   ],
   "source": [
    "# Get the speed of the vehicle in mph from the user\n",
    "speed = float(input(\"What is the speed of the vehicle in mph? \"))\n",
    "\n",
    "# Get the number of hours the vehicle has traveled from the user\n",
    "hours = int(input(\"How many hours has it traveled? \"))\n",
    "\n",
    "# Print the table header\n",
    "print(\"Hour\\tDistance Traveled\")\n",
    "print(\"-------------------------\")\n",
    "\n",
    "# Loop over each hour and calculate the distance traveled\n",
    "for hour in range(1, hours + 1):\n",
    "    distance = speed * hour\n",
    "    print(f\"{hour}\\t{distance}\")"
   ]
  },
  {
   "cell_type": "markdown",
   "id": "d72ae71a-f560-4c20-8526-59add7bf83a6",
   "metadata": {},
   "source": [
    "Pretty simple question we have above us, all you do is use the formula given, then input the values to substitute for the variables in said formula then you have the correct answer/oupout "
   ]
  },
  {
   "cell_type": "markdown",
   "id": "24e84ee6-c1fc-4249-9bf7-b52ed6c847a3",
   "metadata": {},
   "source": [
    "Programming Excercises - (Question 13)\n",
    "Print the pattern shown below"
   ]
  },
  {
   "cell_type": "code",
   "execution_count": 5,
   "id": "e8454f8c-f3ef-4890-910f-8a240bc1e0fe",
   "metadata": {},
   "outputs": [
    {
     "name": "stdout",
     "output_type": "stream",
     "text": [
      "*******\n",
      "******\n",
      "*****\n",
      "****\n",
      "***\n",
      "**\n",
      "*\n"
     ]
    }
   ],
   "source": [
    "def draw_inverted_triangle():\n",
    "    # Outer loop to control the number of lines, starting from 7 and decreasing to 1\n",
    "    for i in range(7, 0, -1):\n",
    "        # Inner loop to print the asterisks on each line\n",
    "        for j in range(i):\n",
    "            # Print asterisk without moving to the next line\n",
    "            print(\"*\", end=\"\")\n",
    "        # Move to the next line after printing all asterisks for the current line\n",
    "        print()\n",
    "\n",
    "# Call the function to draw the inverted triangle pattern\n",
    "draw_inverted_triangle()"
   ]
  },
  {
   "cell_type": "markdown",
   "id": "18679fcb-09b2-4999-96e3-5f9f9ed79dc7",
   "metadata": {},
   "source": [
    "All you have to do is tell them the numbers of rows then tell them the rang e in which they should be outputted, since its a nested loop you go from outer loop to inner loop "
   ]
  },
  {
   "cell_type": "markdown",
   "id": "20a8d7bb-49eb-4409-a011-70c7c7d17eed",
   "metadata": {},
   "source": [
    "Programming Excercises - (Question 14)\n",
    "Print the pattern shown "
   ]
  },
  {
   "cell_type": "code",
   "execution_count": 4,
   "id": "9f27f96d-c0f8-40ca-8389-94f76e302543",
   "metadata": {},
   "outputs": [
    {
     "name": "stdout",
     "output_type": "stream",
     "text": [
      "##\n",
      "# #\n",
      "#  #\n",
      "#   #\n",
      "#    #\n",
      "#     #\n"
     ]
    }
   ],
   "source": [
    "def draw_pattern():\n",
    "    # Outer loop to control the number of lines\n",
    "    for i in range(6):\n",
    "        # Print the first hash character at the beginning of the line\n",
    "        print(\"#\", end=\"\")\n",
    "        # Inner loop to print the spaces after the first hash character\n",
    "        for j in range(i):\n",
    "            print(\" \", end=\"\")\n",
    "        # Print the second hash character at the end of the line\n",
    "        print(\"#\")\n",
    "\n",
    "# Call the function to draw the pattern\n",
    "draw_pattern()"
   ]
  },
  {
   "cell_type": "markdown",
   "id": "74071681-d392-4a9f-87a2-8c58ea222760",
   "metadata": {},
   "source": [
    "The question above is pretty much the same as the one before it (Question 13) with jsut different symbols, either way, like before, you start from the outer loop and make your way in, we create a range and for every new line we go one space to the right for the right side hastag. "
   ]
  }
 ],
 "metadata": {
  "kernelspec": {
   "display_name": "Python 3 (ipykernel)",
   "language": "python",
   "name": "python3"
  },
  "language_info": {
   "codemirror_mode": {
    "name": "ipython",
    "version": 3
   },
   "file_extension": ".py",
   "mimetype": "text/x-python",
   "name": "python",
   "nbconvert_exporter": "python",
   "pygments_lexer": "ipython3",
   "version": "3.11.7"
  }
 },
 "nbformat": 4,
 "nbformat_minor": 5
}
