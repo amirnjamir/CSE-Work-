{
 "cells": [
  {
   "cell_type": "markdown",
   "id": "1242855b-5f69-4a73-950e-d43866106cc0",
   "metadata": {},
   "source": [
    "Algorithm Workbench (Questions 4 & 5) "
   ]
  },
  {
   "cell_type": "markdown",
   "id": "adf90f26-752a-4836-a978-76d69eae1e64",
   "metadata": {},
   "source": [
    "Algorithm Workebench - Question 4 "
   ]
  },
  {
   "cell_type": "code",
   "execution_count": 1,
   "id": "018c8fed-2f9b-45e6-afa5-7e26485440f3",
   "metadata": {},
   "outputs": [
    {
     "ename": "NameError",
     "evalue": "name 'score' is not defined",
     "output_type": "error",
     "traceback": [
      "\u001b[1;31m---------------------------------------------------------------------------\u001b[0m",
      "\u001b[1;31mNameError\u001b[0m                                 Traceback (most recent call last)",
      "Cell \u001b[1;32mIn[1], line 1\u001b[0m\n\u001b[1;32m----> 1\u001b[0m \u001b[38;5;28;01mif\u001b[39;00m score \u001b[38;5;241m>\u001b[39m\u001b[38;5;241m=\u001b[39m A_score:\n\u001b[0;32m      2\u001b[0m     \u001b[38;5;28mprint\u001b[39m(\u001b[38;5;124m'\u001b[39m\u001b[38;5;124mYour grade is A.\u001b[39m\u001b[38;5;124m'\u001b[39m)\n\u001b[0;32m      3\u001b[0m \u001b[38;5;28;01melif\u001b[39;00m score \u001b[38;5;241m>\u001b[39m\u001b[38;5;241m=\u001b[39m B_score:\n",
      "\u001b[1;31mNameError\u001b[0m: name 'score' is not defined"
     ]
    }
   ],
   "source": [
    "if score >= A_score:\n",
    "    print('Your grade is A.')\n",
    "elif score >= B_score:\n",
    "    print('Your grade is B.')\n",
    "elif score >= C_score:\n",
    "    print('Your grade is C.')\n",
    "elif score >= D_score:\n",
    "    print('Your grade is D.')\n",
    "else:\n",
    "    print('Your grade is F.')\n"
   ]
  },
  {
   "cell_type": "markdown",
   "id": "2ebd473a-89d6-42b4-8264-07d3e48c2abc",
   "metadata": {},
   "source": [
    "As you see above were getting a name error, thats expected since we dont have a variable as score defined, below we define the variable as such to get the right output. I replaced it with random numbers to show it works. Its important to note that you have to have it aligned right and have the variables inputted."
   ]
  },
  {
   "cell_type": "code",
   "execution_count": 2,
   "id": "beace25e-076e-4895-92a7-4f8a5cdf223a",
   "metadata": {},
   "outputs": [
    {
     "name": "stdout",
     "output_type": "stream",
     "text": [
      "Your grade is B.\n"
     ]
    }
   ],
   "source": [
    "# Define the score thresholds\n",
    "A_score = 90\n",
    "B_score = 80\n",
    "C_score = 70\n",
    "D_score = 60\n",
    "\n",
    "# Define the score to be evaluated\n",
    "score = 85\n",
    "\n",
    "# Now apply the conditional logic\n",
    "if score >= A_score:\n",
    "    print('Your grade is A.')\n",
    "elif score >= B_score:\n",
    "    print('Your grade is B.')\n",
    "elif score >= C_score:\n",
    "    print('Your grade is C.')\n",
    "elif score >= D_score:\n",
    "    print('Your grade is D.')\n",
    "else:\n",
    "    print('Your grade is F.')\n"
   ]
  },
  {
   "cell_type": "markdown",
   "id": "cc862022-64d4-4101-8cb3-243409a79aa1",
   "metadata": {},
   "source": [
    "Algorithm Workebench - Question 5"
   ]
  },
  {
   "cell_type": "code",
   "execution_count": 3,
   "id": "6ef9e586-2286-48ed-b4d1-c3c5d9ae1255",
   "metadata": {},
   "outputs": [
    {
     "ename": "NameError",
     "evalue": "name 'a' is not defined",
     "output_type": "error",
     "traceback": [
      "\u001b[1;31m---------------------------------------------------------------------------\u001b[0m",
      "\u001b[1;31mNameError\u001b[0m                                 Traceback (most recent call last)",
      "Cell \u001b[1;32mIn[3], line 1\u001b[0m\n\u001b[1;32m----> 1\u001b[0m \u001b[38;5;28;01mif\u001b[39;00m a \u001b[38;5;241m>\u001b[39m \u001b[38;5;241m10\u001b[39m:\n\u001b[0;32m      2\u001b[0m     \u001b[38;5;28;01mif\u001b[39;00m b \u001b[38;5;241m<\u001b[39m \u001b[38;5;241m100\u001b[39m:\n\u001b[0;32m      3\u001b[0m         \u001b[38;5;28;01mif\u001b[39;00m a \u001b[38;5;241m>\u001b[39m b:\n",
      "\u001b[1;31mNameError\u001b[0m: name 'a' is not defined"
     ]
    }
   ],
   "source": [
    "if a > 10:\n",
    "    if b < 100:\n",
    "        if a > b:\n",
    "            print(a)\n",
    "        else:\n",
    "            print(b)"
   ]
  },
  {
   "cell_type": "markdown",
   "id": "3f0b65aa-8df9-4f49-b8b2-173ebcded15a",
   "metadata": {},
   "source": [
    "again we see an error since we dont have the vaules inputted as they should be as well as the varaiables. Below, (like the previous question) we sewe the full and actual answer with the values inputted."
   ]
  },
  {
   "cell_type": "code",
   "execution_count": 4,
   "id": "f043d293-398d-42d8-af57-69b738f2749e",
   "metadata": {},
   "outputs": [
    {
     "name": "stdout",
     "output_type": "stream",
     "text": [
      "80\n"
     ]
    }
   ],
   "source": [
    "# Define the variables\n",
    "a = 15\n",
    "b = 80\n",
    "\n",
    "# Now apply the conditional logic\n",
    "if a > 10:\n",
    "    if b < 100:\n",
    "        if a > b:\n",
    "            print(a)\n",
    "        else:\n",
    "            print(b)\n"
   ]
  },
  {
   "cell_type": "markdown",
   "id": "68b06f10-b006-4081-98ff-59457d6bad99",
   "metadata": {},
   "source": [
    "Programming excercises (Question 1,5, "
   ]
  },
  {
   "cell_type": "markdown",
   "id": "9d7d63eb-4074-48c8-b644-415659008ae3",
   "metadata": {},
   "source": [
    "Programming Excercises - Question 1 "
   ]
  },
  {
   "cell_type": "markdown",
   "id": "e3e97916-729b-4bf6-94f0-3dd200881d24",
   "metadata": {},
   "source": [
    "Write a program that asks the user for a number in the range of 1 through 7. The program should display the corresponding day of the week, where 1 = Monday, 2 = Tuesday, 3 = Wednesday, 4 = Thursday, 5 = Friday, 6 = Saturday, and 7 = Sunday. The program should display an error message if the user enters a number that is outside the range of 1 through 7."
   ]
  },
  {
   "cell_type": "code",
   "execution_count": 5,
   "id": "59d62766-dc88-47d6-b1eb-3adf3eee6cc4",
   "metadata": {},
   "outputs": [
    {
     "name": "stdin",
     "output_type": "stream",
     "text": [
      "Enter a number (1-7):  2\n"
     ]
    },
    {
     "name": "stdout",
     "output_type": "stream",
     "text": [
      "The day of the week is Tuesday.\n"
     ]
    }
   ],
   "source": [
    "# Ask the user for a number in the range of 1 through 7\n",
    "number = int(input(\"Enter a number (1-7): \"))\n",
    "\n",
    "# Define the days of the week\n",
    "days_of_the_week = {\n",
    "    1: \"Monday\",\n",
    "    2: \"Tuesday\",\n",
    "    3: \"Wednesday\",\n",
    "    4: \"Thursday\",\n",
    "    5: \"Friday\",\n",
    "    6: \"Saturday\",\n",
    "    7: \"Sunday\"\n",
    "}\n",
    "\n",
    "# Check if the number is in the valid range\n",
    "if 1 <= number <= 7:\n",
    "    print(f\"The day of the week is {days_of_the_week[number]}.\")\n",
    "else:\n",
    "    print(\"Error: The number must be in the range of 1 through 7.\")\n"
   ]
  },
  {
   "cell_type": "markdown",
   "id": "ad986179-b96e-4f0b-898a-5d783e5b19f2",
   "metadata": {},
   "source": [
    "As you can see above the code is working perfectly since the number is correctly corresponding with the right day of the week. "
   ]
  },
  {
   "cell_type": "markdown",
   "id": "b905ec60-a4d4-49fc-913d-6562360e901b",
   "metadata": {},
   "source": [
    "Programming Excercises - Question 5"
   ]
  },
  {
   "cell_type": "markdown",
   "id": "08552715-f37b-43f2-9aab-bea1a05294f1",
   "metadata": {},
   "source": [
    "Scientists measure an object’s mass in kilograms and its weight in newtons. If you know the amount of mass of an object in kilograms, you can calculate its weight in newtons with the following formula:\n",
    "weight = mass x 9.8\n",
    "Write a program that asks the user to enter an object’s mass, then calculates its weight. If the object weighs more than 500 newtons, display a message indicating that it is too heavy. If the object weighs less than 100 newtons, display a message indicating that it is too light."
   ]
  },
  {
   "cell_type": "code",
   "execution_count": 6,
   "id": "243123eb-a206-4b9c-968e-4e561d2166e8",
   "metadata": {},
   "outputs": [
    {
     "name": "stdin",
     "output_type": "stream",
     "text": [
      "Enter the object's mass in kilograms:  15\n"
     ]
    },
    {
     "name": "stdout",
     "output_type": "stream",
     "text": [
      "The weight of the object is 147.0 newtons.\n"
     ]
    }
   ],
   "source": [
    "# Ask the user to enter the object's mass in kilograms\n",
    "mass = float(input(\"Enter the object's mass in kilograms: \"))\n",
    "\n",
    "# Calculate the weight in newtons\n",
    "weight = mass * 9.8\n",
    "\n",
    "# Display the calculated weight\n",
    "print(f\"The weight of the object is {weight} newtons.\")\n",
    "\n",
    "# Check if the object is too heavy or too light\n",
    "if weight > 500:\n",
    "    print(\"The object is too heavy.\")\n",
    "elif weight < 100:\n",
    "    print(\"The object is too light.\")\n"
   ]
  },
  {
   "cell_type": "markdown",
   "id": "6ea10ab5-6c43-4b18-a2b9-f7433eb28878",
   "metadata": {},
   "source": [
    "Again you can see it works as intended and is able to translate the weight to newtons"
   ]
  },
  {
   "cell_type": "markdown",
   "id": "a4fd399b-494c-4cd4-bcb7-712424fe57ef",
   "metadata": {},
   "source": [
    "Programming Excercises - Question 15"
   ]
  },
  {
   "cell_type": "code",
   "execution_count": 7,
   "id": "dd3849b4-fa8e-427b-89ca-92be226606dd",
   "metadata": {},
   "outputs": [
    {
     "name": "stdin",
     "output_type": "stream",
     "text": [
      "Enter a year:  2024\n"
     ]
    },
    {
     "name": "stdout",
     "output_type": "stream",
     "text": [
      "In 2024, February has 29 days.\n"
     ]
    }
   ],
   "source": [
    "# Function to determine if a year is a leap year\n",
    "def is_leap_year(year):\n",
    "    if (year % 100 == 0 and year % 400 == 0) or (year % 100 != 0 and year % 4 == 0):\n",
    "        return True\n",
    "    else:\n",
    "        return False\n",
    "\n",
    "# Ask the user to enter a year\n",
    "year = int(input(\"Enter a year: \"))\n",
    "\n",
    "# Determine the number of days in February\n",
    "if is_leap_year(year):\n",
    "    days_in_february = 29\n",
    "else:\n",
    "    days_in_february = 28\n",
    "\n",
    "# Display the result\n",
    "print(f\"In {year}, February has {days_in_february} days.\")\n",
    "    "
   ]
  },
  {
   "cell_type": "markdown",
   "id": "5e2e364a-80fe-4bde-8d5c-5a830225042f",
   "metadata": {},
   "source": [
    "Since 2024 is a leap year we should get 29 days as a result which we do, the code above is pretty self-explanatory, since you get a leap year every four years and we use a branching type system to get the answer."
   ]
  },
  {
   "cell_type": "markdown",
   "id": "2d8916a8-acf5-43e9-bb4e-68b1347c162f",
   "metadata": {},
   "source": [
    "Programming Excercises - Question 17"
   ]
  },
  {
   "cell_type": "code",
   "execution_count": 8,
   "id": "f631113d-8c0c-490c-aab6-9f412e430abe",
   "metadata": {},
   "outputs": [
    {
     "name": "stdin",
     "output_type": "stream",
     "text": [
      "Is anyone in your party a vegetarian? (yes/no)  no\n",
      "Is anyone in your party a vegan? (yes/no)  yes\n",
      "Is anyone in your party gluten-free? (yes/no)  yes\n"
     ]
    },
    {
     "name": "stdout",
     "output_type": "stream",
     "text": [
      "\n",
      "Here are your restaurant choices:\n",
      "  Corner Café\n",
      "  The Chef's Kitchen\n"
     ]
    }
   ],
   "source": [
    "# Define the restaurants and their dietary accommodations\n",
    "restaurants = {\n",
    "    \"Joe's Gourmet Burgers\": {\"vegetarian\": False, \"vegan\": False, \"gluten_free\": False},\n",
    "    \"Main Street Pizza Company\": {\"vegetarian\": True, \"vegan\": False, \"gluten_free\": True},\n",
    "    \"Corner Café\": {\"vegetarian\": True, \"vegan\": True, \"gluten_free\": True},\n",
    "    \"Mama's Fine Italian\": {\"vegetarian\": True, \"vegan\": False, \"gluten_free\": False},\n",
    "    \"The Chef's Kitchen\": {\"vegetarian\": True, \"vegan\": True, \"gluten_free\": True},\n",
    "}\n",
    "\n",
    "# Ask the user for dietary restrictions\n",
    "vegetarian = input(\"Is anyone in your party a vegetarian? (yes/no) \").strip().lower() == \"yes\"\n",
    "vegan = input(\"Is anyone in your party a vegan? (yes/no) \").strip().lower() == \"yes\"\n",
    "gluten_free = input(\"Is anyone in your party gluten-free? (yes/no) \").strip().lower() == \"yes\"\n",
    "\n",
    "# Determine which restaurants can accommodate the party's dietary restrictions\n",
    "suitable_restaurants = []\n",
    "for restaurant, options in restaurants.items():\n",
    "    if (not vegetarian or options[\"vegetarian\"]) and (not vegan or options[\"vegan\"]) and (not gluten_free or options[\"gluten_free\"]):\n",
    "        suitable_restaurants.append(restaurant)\n",
    "\n",
    "# Display the suitable restaurants\n",
    "if suitable_restaurants:\n",
    "    print(\"\\nHere are your restaurant choices:\")\n",
    "    for restaurant in suitable_restaurants:\n",
    "        print(f\"  {restaurant}\")\n",
    "else:\n",
    "    print(\"There are no suitable restaurants for your dietary restrictions.\")\n"
   ]
  },
  {
   "cell_type": "markdown",
   "id": "3c2cd69f-1b35-41b3-8304-da34ccd95054",
   "metadata": {},
   "source": [
    "As seen above, depending on your choices of if your a vegatarian, vegan, or gluten free, this could all alter your responses/outputs. In this particular \"test\" I inputted no vegatarian, yes on vegan, and yes on gluten free which gave us Corner Cafe and the Chef's Kithcen. "
   ]
  }
 ],
 "metadata": {
  "kernelspec": {
   "display_name": "Python 3 (ipykernel)",
   "language": "python",
   "name": "python3"
  },
  "language_info": {
   "codemirror_mode": {
    "name": "ipython",
    "version": 3
   },
   "file_extension": ".py",
   "mimetype": "text/x-python",
   "name": "python",
   "nbconvert_exporter": "python",
   "pygments_lexer": "ipython3",
   "version": "3.11.7"
  }
 },
 "nbformat": 4,
 "nbformat_minor": 5
}
