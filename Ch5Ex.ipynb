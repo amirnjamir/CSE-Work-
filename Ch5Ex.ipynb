{
 "cells": [
  {
   "cell_type": "markdown",
   "id": "d912ddac-2441-4619-bb73-20de4b5c7f8e",
   "metadata": {},
   "source": [
    "Algorithm WorkBench (Questions 4 & 6)"
   ]
  },
  {
   "cell_type": "markdown",
   "id": "c86ceb1c-0666-4f8b-9519-eafa4f5a04c9",
   "metadata": {},
   "source": [
    "Question 4 (Algorithm Workbench)"
   ]
  },
  {
   "cell_type": "markdown",
   "id": "a175ccaa-a658-4e68-85b0-310d4a1925c0",
   "metadata": {},
   "source": [
    "Below is question 4 and its code provided, as you can see it has two functions \"change_us(a,b)\" and \"main()\". They're set to 1 and 3.4. It should print \"1 3.4\". Then, \"change_us(x,y) sets 'a' and 'b' to 0 which prints '0 0'. Since this doesnt change 'x' and 'y' in 'main', the second print still shows '1 3.4'; meaining the programs output is: '1 3.4', '0 0', '1 3.4'. "
   ]
  },
  {
   "cell_type": "code",
   "execution_count": 1,
   "id": "17dfc50a-6956-4a56-85e3-23e79824131b",
   "metadata": {},
   "outputs": [
    {
     "name": "stdout",
     "output_type": "stream",
     "text": [
      "1 3.4\n",
      "0 0\n",
      "1 3.4\n"
     ]
    }
   ],
   "source": [
    "def main():\n",
    "    x = 1\n",
    "    y = 3.4\n",
    "    print(x, y)\n",
    "    change_us(x, y)\n",
    "    print(x, y)\n",
    "\n",
    "def change_us(a, b):\n",
    "    a = 0\n",
    "    b = 0\n",
    "    print(a, b)\n",
    "\n",
    "main()\n"
   ]
  },
  {
   "cell_type": "markdown",
   "id": "c1fc5844-1296-488f-809e-34a52ce05078",
   "metadata": {},
   "source": [
    "As we can see above our hypothesis is correct! "
   ]
  },
  {
   "cell_type": "markdown",
   "id": "4ce1952e-3573-4ab5-8c0a-467d1048ccef",
   "metadata": {},
   "source": [
    "Question 6 (Algorithm Workbench)"
   ]
  },
  {
   "cell_type": "markdown",
   "id": "8dbbba61-c4a4-4735-ab4e-b00ec3669ac0",
   "metadata": {},
   "source": [
    "Below is one of the many ways to do it, all I did was just import the random module, and assign it the variable the question wanted me to give it 'rand'; then printed rand to get a random number."
   ]
  },
  {
   "cell_type": "code",
   "execution_count": 2,
   "id": "ad7e8b2c-ba5c-4423-b06d-e67ee843cb3e",
   "metadata": {},
   "outputs": [
    {
     "name": "stdout",
     "output_type": "stream",
     "text": [
      "62\n"
     ]
    }
   ],
   "source": [
    "import random  # Import the random module to use random number functions\n",
    "\n",
    "# Generate a random integer between 1 and 100 (inclusive) and assign it to the variable 'rand'\n",
    "rand = random.randint(1, 100)\n",
    "\n",
    "# Print the generated random number (optional)\n",
    "print(rand)"
   ]
  },
  {
   "cell_type": "markdown",
   "id": "ff4fcb96-98b5-43cd-a5b3-3e05c7470e4a",
   "metadata": {},
   "source": [
    "Above we got a random number of 62 from 1-100."
   ]
  },
  {
   "cell_type": "code",
   "execution_count": null,
   "id": "124eeb73-fe33-495e-9703-7d94869837b2",
   "metadata": {},
   "outputs": [],
   "source": [
    "Programming Excercises (Questions 1, 16, 17, & 9) "
   ]
  },
  {
   "cell_type": "markdown",
   "id": "bd838e42-5a60-45f9-9fff-62e0519598f7",
   "metadata": {},
   "source": [
    "Question 1 (Programming Excercises)"
   ]
  },
  {
   "cell_type": "markdown",
   "id": "80ce54aa-ca98-42c6-b6f8-bffa7a3646cb",
   "metadata": {},
   "source": [
    "Below is the code/program that asks the user to enter the distance in kilometers, which then uses a function to convert the distance asked to miles. Below I randomly used a distnace of '500 kilometers' which, if doing the math correctly, should give me 310 miles with some change.   "
   ]
  },
  {
   "cell_type": "code",
   "execution_count": 3,
   "id": "29bfb5de-61ab-468e-87ba-c14703936420",
   "metadata": {},
   "outputs": [
    {
     "name": "stdin",
     "output_type": "stream",
     "text": [
      "Enter distance in kilometers:  500\n"
     ]
    },
    {
     "name": "stdout",
     "output_type": "stream",
     "text": [
      "500.0 kilometers is equal to 310.7 miles.\n"
     ]
    }
   ],
   "source": [
    "# Define the conversion function\n",
    "def kilometers_to_miles(kilometers):\n",
    "    # Conversion formula\n",
    "    return kilometers * 0.6214\n",
    "\n",
    "# Ask the user to enter a distance in kilometers\n",
    "kilometers = float(input(\"Enter distance in kilometers: \"))\n",
    "\n",
    "# Convert the distance to miles\n",
    "miles = kilometers_to_miles(kilometers)\n",
    "\n",
    "# Print the result\n",
    "print(f\"{kilometers} kilometers is equal to {miles} miles.\")"
   ]
  },
  {
   "cell_type": "markdown",
   "id": "524af31d-b7e6-4f86-830a-2cdfaa1e11e9",
   "metadata": {},
   "source": [
    "As you can see from above , we guessed exaclty what the output would be correctly. All it took was using a function to start off then the formula we were given and a variable to print. "
   ]
  },
  {
   "cell_type": "code",
   "execution_count": null,
   "id": "5e757954-0bae-4211-8cfe-75d242a27db2",
   "metadata": {},
   "outputs": [],
   "source": [
    "Question 16 (Programming Excercises)"
   ]
  },
  {
   "cell_type": "markdown",
   "id": "984f9403-e435-4cca-9f41-23290f8183aa",
   "metadata": {},
   "source": [
    "First we have to understand what a prime function is, which the textbook states is \"a number that is only evenly divisible by itself and 1\". So the number we get below should not be divisible by anything other then itself OR 1."
   ]
  },
  {
   "cell_type": "code",
   "execution_count": 8,
   "id": "898edb78-3955-42be-abac-e1652a64e5c0",
   "metadata": {},
   "outputs": [
    {
     "name": "stdin",
     "output_type": "stream",
     "text": [
      "Enter a number:  5\n"
     ]
    },
    {
     "name": "stdout",
     "output_type": "stream",
     "text": [
      "5 is a prime number.\n"
     ]
    }
   ],
   "source": [
    "# Define the is_prime function to check if a number is prime\n",
    "def is_prime(n):\n",
    "    # Numbers less than or equal to 1 are not prime\n",
    "    if n <= 1:\n",
    "        return False\n",
    "    # Check for factors from 2 up to the square root of n\n",
    "    for i in range(2, int(n**0.5) + 1):\n",
    "        if n % i == 0:\n",
    "            return False\n",
    "    return True\n",
    "\n",
    "# Prompt the user to enter a number\n",
    "number = int(input(\"Enter a number: \"))\n",
    "\n",
    "# Check if the number is prime and display the result\n",
    "if is_prime(number):\n",
    "    print(f\"{number} is a prime number.\")\n",
    "else:\n",
    "    print(f\"{number} is not a prime number.\")"
   ]
  },
  {
   "cell_type": "markdown",
   "id": "33368c94-bb96-4920-b939-334a1f30c364",
   "metadata": {},
   "source": [
    "Above we can see the number we got is prime and cant be divided by anything else other than itself or 1. I couldve inputted any number, but I chose to PURPOSEFULLY chose a prime number to prove that the code works. "
   ]
  },
  {
   "cell_type": "markdown",
   "id": "ab1384dd-5270-4dfd-8fac-f573ca083819",
   "metadata": {},
   "source": [
    "Question 17 (Programming Excercises)"
   ]
  },
  {
   "cell_type": "markdown",
   "id": "42f954ac-3551-4982-9ed1-c46e17113323",
   "metadata": {},
   "source": [
    "Going of number 16 from before like it says to do in the textbook we can get/grasp a further idea of what it wants the coder to do. Below should just be a list from 1-100 of prime numbers."
   ]
  },
  {
   "cell_type": "code",
   "execution_count": 7,
   "id": "5bc27a3c-ce3b-4daf-ae95-70be409cf75a",
   "metadata": {},
   "outputs": [
    {
     "name": "stdout",
     "output_type": "stream",
     "text": [
      "2\n",
      "3\n",
      "5\n",
      "7\n",
      "11\n",
      "13\n",
      "17\n",
      "19\n",
      "23\n",
      "29\n",
      "31\n",
      "37\n",
      "41\n",
      "43\n",
      "47\n",
      "53\n",
      "59\n",
      "61\n",
      "67\n",
      "71\n",
      "73\n",
      "79\n",
      "83\n",
      "89\n",
      "97\n"
     ]
    }
   ],
   "source": [
    "# Define the is_prime function to check if a number is prime\n",
    "def is_prime(n):\n",
    "    # Numbers less than or equal to 1 are not prime\n",
    "    if n <= 1:\n",
    "        return False\n",
    "    # Check for factors from 2 up to the square root of n\n",
    "    for i in range(2, int(n**0.5) + 1):\n",
    "        if n % i == 0:\n",
    "            return False\n",
    "    return True\n",
    "\n",
    "# Loop through numbers from 1 to 100 and check if they are prime\n",
    "for num in range(1, 101):\n",
    "    # If the number is prime, print it\n",
    "    if is_prime(num):\n",
    "        print(num)"
   ]
  },
  {
   "cell_type": "markdown",
   "id": "ffc9a0db-2f43-46ef-b691-e259871eedb8",
   "metadata": {},
   "source": [
    "Above, its kind of like question 16; instead of asking and inputting a number we just get a list of ALL the prime number from 1-100. We can fact check using the simple math and the definition we were previously given for number 16. "
   ]
  },
  {
   "cell_type": "markdown",
   "id": "8138d52e-8787-46c0-9d45-e6289d1f65f7",
   "metadata": {},
   "source": [
    "Question 9 (Programming Excercises) "
   ]
  },
  {
   "cell_type": "code",
   "execution_count": null,
   "id": "1d38e196-ca59-4547-98cb-918eb4a3658b",
   "metadata": {},
   "outputs": [],
   "source": [
    "Going back a little in terms of the questions, below we have code that should ask us for feet, in which the code written wil convert from feet to inches using a multiplier."
   ]
  },
  {
   "cell_type": "code",
   "execution_count": 9,
   "id": "ea806be7-be7f-4c2b-8041-60849f8a259a",
   "metadata": {},
   "outputs": [
    {
     "name": "stdin",
     "output_type": "stream",
     "text": [
      "Enter the number of feet:  16\n"
     ]
    },
    {
     "name": "stdout",
     "output_type": "stream",
     "text": [
      "16.0 feet is equal to 192.0 inches.\n"
     ]
    }
   ],
   "source": [
    "# Define the feet_to_inches function to convert feet to inches\n",
    "def feet_to_inches(feet):\n",
    "    # There are 12 inches in one foot\n",
    "    return feet * 12\n",
    "\n",
    "# Prompt the user to enter a number of feet\n",
    "feet = float(input(\"Enter the number of feet: \"))\n",
    "\n",
    "# Convert the feet to inches using the feet_to_inches function\n",
    "inches = feet_to_inches(feet)\n",
    "\n",
    "# Display the result\n",
    "print(f\"{feet} feet is equal to {inches} inches.\")"
   ]
  },
  {
   "cell_type": "markdown",
   "id": "63f74c97-b544-434a-934a-ff25d5f96249",
   "metadata": {},
   "source": [
    "Above, I used 16 feet to give a demonstration of how it would look in terms of inches which is 192 feet."
   ]
  }
 ],
 "metadata": {
  "kernelspec": {
   "display_name": "Python 3 (ipykernel)",
   "language": "python",
   "name": "python3"
  },
  "language_info": {
   "codemirror_mode": {
    "name": "ipython",
    "version": 3
   },
   "file_extension": ".py",
   "mimetype": "text/x-python",
   "name": "python",
   "nbconvert_exporter": "python",
   "pygments_lexer": "ipython3",
   "version": "3.11.7"
  }
 },
 "nbformat": 4,
 "nbformat_minor": 5
}
