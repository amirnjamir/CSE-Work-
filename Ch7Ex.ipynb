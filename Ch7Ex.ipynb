{
 "cells": [
  {
   "cell_type": "markdown",
   "id": "84ae58ad-5102-4568-a881-9781b089fdc5",
   "metadata": {},
   "source": [
    "Algorithm Workbench (Questions 1 & 2)"
   ]
  },
  {
   "cell_type": "markdown",
   "id": "f4524457-4327-43e4-a717-7f216b495da2",
   "metadata": {},
   "source": [
    "Algorithm Workbench - Question 1 "
   ]
  },
  {
   "cell_type": "code",
   "execution_count": 5,
   "id": "17ad1d48-6d33-424d-9419-a35598821947",
   "metadata": {},
   "outputs": [
    {
     "name": "stdout",
     "output_type": "stream",
     "text": [
      "['Einstein', 'Newton', 'Copernicus', 'Kepler']\n"
     ]
    }
   ],
   "source": [
    "# Create a list named 'scientists' with four famous scientists, make sure to have commas and start and end with brackets\n",
    "scientists = ['Einstein', 'Newton', 'Copernicus', 'Kepler']\n",
    "print(scientists)\n",
    "#print it to the console"
   ]
  },
  {
   "cell_type": "markdown",
   "id": "f03b7b5b-f65b-4377-a7bb-f4d70628f11c",
   "metadata": {},
   "source": [
    "Pretty simple to make a list of people, all you do is give a variable in which you want the list to be created for, name the things in the list; make sure to put brackets around it seeing as that is how lists are made, and make sure to have a comma seperating each thing in the list."
   ]
  },
  {
   "cell_type": "markdown",
   "id": "62de7c98-ad6e-4da3-b519-49420706a9c5",
   "metadata": {},
   "source": [
    "Algorithm Workbench - Question 2 "
   ]
  },
  {
   "cell_type": "code",
   "execution_count": 6,
   "id": "21b963a2-8a49-41d7-805a-3eb10fc74de0",
   "metadata": {},
   "outputs": [
    {
     "name": "stdout",
     "output_type": "stream",
     "text": [
      "Einstein\n",
      "Newton\n",
      "Copernicus\n",
      "Kepler\n"
     ]
    }
   ],
   "source": [
    "# Assume 'names' references a list, the previous one \n",
    "names = ['Einstein', 'Newton', 'Copernicus', 'Kepler']\n",
    "\n",
    "# Iterate through each element in the list and print it\n",
    "for name in names:\n",
    "    print(name)"
   ]
  },
  {
   "cell_type": "markdown",
   "id": "81d50c0c-daf0-4cde-aadb-26148e671dc3",
   "metadata": {},
   "source": [
    "This time unlike question 1, we have it printing on new lines since were doing it individually using a for loop ('for name in names'). Then you simply just print the name (individual one (name) in the list(names))). "
   ]
  },
  {
   "cell_type": "markdown",
   "id": "7c53a1b8-110a-4453-afc8-465ae8017240",
   "metadata": {},
   "source": [
    "Programming Excercises (Questions 1, 14, 2, & 3) "
   ]
  },
  {
   "cell_type": "markdown",
   "id": "701d48e3-2501-4b81-8fe2-b037beb49aad",
   "metadata": {},
   "source": [
    "Programming Excercises - Question 1 "
   ]
  },
  {
   "cell_type": "code",
   "execution_count": 1,
   "id": "1c0e0a42-d63c-43c3-818a-a55d84583325",
   "metadata": {},
   "outputs": [
    {
     "name": "stdin",
     "output_type": "stream",
     "text": [
      "Enter the sales for day 1:  150\n",
      "Enter the sales for day 2:  220\n",
      "Enter the sales for day 3:  176\n",
      "Enter the sales for day 4:  189\n",
      "Enter the sales for day 5:  135\n",
      "Enter the sales for day 6:  165\n",
      "Enter the sales for day 7:  178\n"
     ]
    },
    {
     "ename": "TypeError",
     "evalue": "unsupported operand type(s) for +=: 'int' and 'str'",
     "output_type": "error",
     "traceback": [
      "\u001b[0;31m---------------------------------------------------------------------------\u001b[0m",
      "\u001b[0;31mTypeError\u001b[0m                                 Traceback (most recent call last)",
      "Cell \u001b[0;32mIn[1], line 11\u001b[0m\n\u001b[1;32m      9\u001b[0m total_sales \u001b[38;5;241m=\u001b[39m \u001b[38;5;241m0\u001b[39m\n\u001b[1;32m     10\u001b[0m \u001b[38;5;28;01mfor\u001b[39;00m sale \u001b[38;5;129;01min\u001b[39;00m sales:\n\u001b[0;32m---> 11\u001b[0m     total_sales \u001b[38;5;241m+\u001b[39m\u001b[38;5;241m=\u001b[39m sale \n\u001b[1;32m     13\u001b[0m \u001b[38;5;66;03m# Display the result\u001b[39;00m\n\u001b[1;32m     14\u001b[0m \u001b[38;5;28mprint\u001b[39m(\u001b[38;5;124m\"\u001b[39m\u001b[38;5;124mTotal sales for the week: $\u001b[39m\u001b[38;5;124m\"\u001b[39m, total_sales)\n",
      "\u001b[0;31mTypeError\u001b[0m: unsupported operand type(s) for +=: 'int' and 'str'"
     ]
    }
   ],
   "source": [
    "# Initialize an empty list to store sales amounts\n",
    "sales = []\n",
    "\n",
    "# Ask the user for sales for each day of the week\n",
    "for i in range(7):\n",
    "    sales.append(input(\"Enter the sales for day {}: \".format(i + 1)))\n",
    "\n",
    "# Calculate the total sales\n",
    "total_sales = 0\n",
    "for sale in sales:\n",
    "    total_sales += sale \n",
    "\n",
    "# Display the result\n",
    "print(\"Total sales for the week: $\", total_sales)"
   ]
  },
  {
   "cell_type": "markdown",
   "id": "2f0c12bf-7eed-4456-91ff-41b81cc2a1db",
   "metadata": {},
   "source": [
    "For a while I couldnt figure out what the problem was, at first I thought it mightve been a small issue like a missed period or messed up variable, but then I realized I forgot to convert the user to a numeric type before I added it to the list (sale is not a string). Below you can see I fixed that. "
   ]
  },
  {
   "cell_type": "code",
   "execution_count": 9,
   "id": "eb35ee6a-6f70-4d4b-a3c8-f70e4e6b0eb0",
   "metadata": {},
   "outputs": [
    {
     "name": "stdin",
     "output_type": "stream",
     "text": [
      "Enter the sales for day 1:  110\n",
      "Enter the sales for day 2:  134\n",
      "Enter the sales for day 3:  167\n",
      "Enter the sales for day 4:  152\n",
      "Enter the sales for day 5:  188\n",
      "Enter the sales for day 6:  190\n",
      "Enter the sales for day 7:  125\n"
     ]
    },
    {
     "name": "stdout",
     "output_type": "stream",
     "text": [
      "Total sales for the week: $ 1066.0\n"
     ]
    }
   ],
   "source": [
    "# Initialize an empty list to store sales amounts\n",
    "sales = []\n",
    "\n",
    "# Ask the user for sales for each day of the week and calculate total inside the loop\n",
    "total_sales = 0\n",
    "for i in range(7):\n",
    "    sale = float(input(\"Enter the sales for day {}: \".format(i + 1)))\n",
    "    total_sales += sale\n",
    "    sales.append(sale) \n",
    "\n",
    "# Display the result\n",
    "print(\"Total sales for the week: $\", total_sales)"
   ]
  },
  {
   "cell_type": "markdown",
   "id": "5e0c7126-8607-4dd8-bee2-3e3e3f144431",
   "metadata": {},
   "source": [
    "I checked again and although its right, there are definetly more effficient ways at the coding/answering this question. Below I tried to improve it by making it more flexible among other things. Just in case I used the same sales for each day as the program above."
   ]
  },
  {
   "cell_type": "code",
   "execution_count": 2,
   "id": "0a204ef5-1330-42dc-ae33-bcd3bd4eb36b",
   "metadata": {},
   "outputs": [
    {
     "name": "stdin",
     "output_type": "stream",
     "text": [
      "Enter the sales for day 1:  110\n",
      "Enter the sales for day 2:  134\n",
      "Enter the sales for day 3:  167\n",
      "Enter the sales for day 4:  152\n",
      "Enter the sales for day 5:  188\n",
      "Enter the sales for day 6:  190\n",
      "Enter the sales for day 7:  125\n"
     ]
    },
    {
     "name": "stdout",
     "output_type": "stream",
     "text": [
      "Total sales for the week: $ 1066.0\n"
     ]
    }
   ],
   "source": [
    "# Initialize an empty list to store sales amounts\n",
    "sales = []\n",
    "\n",
    "# Ask the user for sales for each day of the week\n",
    "for i in range(7):\n",
    "    sale = float(input(\"Enter the sales for day {}: \".format(i + 1)))\n",
    "    sales.append(sale)\n",
    "\n",
    "# Calculate the total sales\n",
    "total_sales = sum(sales)\n",
    "\n",
    "# Display the result\n",
    "print(\"Total sales for the week: $\", total_sales)"
   ]
  },
  {
   "cell_type": "markdown",
   "id": "bdaed062-3af8-4f80-b0e8-a6699c2f263f",
   "metadata": {},
   "source": [
    "The Abobe program (atleast to me) keeps things more in order and less intertwined the program before it, its take in the numbers and adds them up seperately from the calculations.  "
   ]
  },
  {
   "cell_type": "markdown",
   "id": "50f62f96-c5f4-4f8e-81c0-62e85abc3140",
   "metadata": {},
   "source": [
    "Prgramming Excercises- Question 14 "
   ]
  },
  {
   "cell_type": "code",
   "execution_count": 9,
   "id": "410132e2-8d4b-4e54-a81e-f2eb05badb29",
   "metadata": {},
   "outputs": [
    {
     "ename": "ValueError",
     "evalue": "I/O operation on closed file.",
     "output_type": "error",
     "traceback": [
      "\u001b[0;31m---------------------------------------------------------------------------\u001b[0m",
      "\u001b[0;31mValueError\u001b[0m                                Traceback (most recent call last)",
      "Cell \u001b[0;32mIn[9], line 10\u001b[0m\n\u001b[1;32m      7\u001b[0m amounts \u001b[38;5;241m=\u001b[39m []\n\u001b[1;32m      9\u001b[0m \u001b[38;5;66;03m# Attempt to read the data from the file without opening it\u001b[39;00m\n\u001b[0;32m---> 10\u001b[0m data \u001b[38;5;241m=\u001b[39m file\u001b[38;5;241m.\u001b[39mreadlines()  \u001b[38;5;66;03m# This will cause an error because 'file' is not defined\u001b[39;00m\n\u001b[1;32m     12\u001b[0m \u001b[38;5;66;03m# Convert string amounts to float and append to amounts list\u001b[39;00m\n\u001b[1;32m     13\u001b[0m \u001b[38;5;28;01mfor\u001b[39;00m line \u001b[38;5;129;01min\u001b[39;00m data:\n",
      "\u001b[0;31mValueError\u001b[0m: I/O operation on closed file."
     ]
    }
   ],
   "source": [
    "import matplotlib.pyplot as plt\n",
    "\n",
    "# Incorrect Program 1\n",
    "\n",
    "# Initialize lists for categories and amounts\n",
    "categories = ['Rent', 'Gas', 'Food', 'Clothing', 'Car payment', 'Misc']\n",
    "amounts = []\n",
    "\n",
    "# Attempt to read the data from the file without opening it\n",
    "data = file.readlines()  # This will cause an error because 'file' is not defined\n",
    "\n",
    "# Convert string amounts to float and append to amounts list\n",
    "for line in data:\n",
    "    amounts.append(float(line.strip()))\n",
    "\n",
    "# Plot the pie chart\n",
    "plt.pie(amounts, labels=categories, autopct='%1.1f%%')\n",
    "plt.title('Expenses Pie Chart')\n",
    "plt.show()"
   ]
  },
  {
   "cell_type": "markdown",
   "id": "a74e2588-620c-4048-8fb4-bb99e0d539b0",
   "metadata": {},
   "source": [
    "I accidentally forgot to open the file before reading from it."
   ]
  },
  {
   "cell_type": "code",
   "execution_count": 11,
   "id": "90c8c654-3e79-48cf-ad2b-92e451cc8e9a",
   "metadata": {},
   "outputs": [
    {
     "ename": "ValueError",
     "evalue": "could not convert string to float: '1200\\n150\\n400\\n100\\n300\\n50'",
     "output_type": "error",
     "traceback": [
      "\u001b[0;31m---------------------------------------------------------------------------\u001b[0m",
      "\u001b[0;31mValueError\u001b[0m                                Traceback (most recent call last)",
      "Cell \u001b[0;32mIn[11], line 10\u001b[0m\n\u001b[1;32m      7\u001b[0m \u001b[38;5;28;01mwith\u001b[39;00m \u001b[38;5;28mopen\u001b[39m(\u001b[38;5;124m'\u001b[39m\u001b[38;5;124mexpenses.txt\u001b[39m\u001b[38;5;124m'\u001b[39m, \u001b[38;5;124m'\u001b[39m\u001b[38;5;124mr\u001b[39m\u001b[38;5;124m'\u001b[39m) \u001b[38;5;28;01mas\u001b[39;00m file:\n\u001b[1;32m      8\u001b[0m     data \u001b[38;5;241m=\u001b[39m file\u001b[38;5;241m.\u001b[39mread()  \n\u001b[0;32m---> 10\u001b[0m amounts\u001b[38;5;241m.\u001b[39mappend(\u001b[38;5;28mfloat\u001b[39m(data\u001b[38;5;241m.\u001b[39mstrip()))  \n\u001b[1;32m     12\u001b[0m \u001b[38;5;66;03m# Plot the pie chart\u001b[39;00m\n\u001b[1;32m     13\u001b[0m plt\u001b[38;5;241m.\u001b[39mpie(amounts, labels\u001b[38;5;241m=\u001b[39mcategories, autopct\u001b[38;5;241m=\u001b[39m\u001b[38;5;124m'\u001b[39m\u001b[38;5;132;01m%1.1f\u001b[39;00m\u001b[38;5;132;01m%%\u001b[39;00m\u001b[38;5;124m'\u001b[39m)\n",
      "\u001b[0;31mValueError\u001b[0m: could not convert string to float: '1200\\n150\\n400\\n100\\n300\\n50'"
     ]
    }
   ],
   "source": [
    "import matplotlib.pyplot as plt\n",
    "# Initialize lists for categories and amounts\n",
    "categories = ['Rent', 'Gas', 'Food', 'Clothing', 'Car payment', 'Misc']\n",
    "amounts = []\n",
    "\n",
    "# Read the data from the file \n",
    "with open('expenses.txt', 'r') as file:\n",
    "    data = file.read()  \n",
    "\n",
    "amounts.append(float(data.strip()))  \n",
    "\n",
    "# Plot the pie chart\n",
    "plt.pie(amounts, labels=categories, autopct='%1.1f%%')\n",
    "plt.title('Expenses Pie Chart')\n",
    "plt.show()"
   ]
  },
  {
   "cell_type": "markdown",
   "id": "9f83b8a4-7afc-4210-a777-11d72872b209",
   "metadata": {},
   "source": [
    "The program read the entire file as a single string and then tries to convert the string to a float, it couldnt ALL be created into a single float. Before Is the fully rectified version, with no mistakes and should present a pie chart as asked in the question.  "
   ]
  },
  {
   "cell_type": "code",
   "execution_count": 12,
   "id": "85ccbd63-4227-405f-9d50-7c5493e35909",
   "metadata": {},
   "outputs": [
    {
     "data": {
      "image/png": "[encoded data removed]",
      "text/plain": [
       "<Figure size 640x480 with 1 Axes>"
      ]
     },
     "metadata": {},
     "output_type": "display_data"
    }
   ],
   "source": [
    "import matplotlib.pyplot as plt\n",
    "# Initialize lists for categories and amounts\n",
    "categories = ['Rent', 'Gas', 'Food', 'Clothing', 'Car payment', 'Misc']\n",
    "amounts = []\n",
    "\n",
    "# Read the data from the file and convert to float\n",
    "with open('expenses.txt', 'r') as file:\n",
    "    for line in file:\n",
    "        amounts.append(float(line.strip()))\n",
    "\n",
    "# Plot the pie chart\n",
    "plt.pie(amounts, labels=categories, autopct='%1.1f%%')\n",
    "plt.title('Expenses Pie Chart')\n",
    "plt.show()"
   ]
  },
  {
   "cell_type": "code",
   "execution_count": null,
   "id": "ead87a0a-c9dd-4328-a0df-0712073f7e8a",
   "metadata": {},
   "outputs": [],
   "source": [
    "Programming Excercises - Question 2 "
   ]
  },
  {
   "cell_type": "code",
   "execution_count": 13,
   "id": "14eda5f9-4c5f-4a98-905e-3eb6078c75a7",
   "metadata": {},
   "outputs": [
    {
     "name": "stdout",
     "output_type": "stream",
     "text": [
      "<generator object <genexpr> at 0x118bceea0>\n"
     ]
    }
   ],
   "source": [
    "import random\n",
    "\n",
    "# Generate a seven-digit lottery number\n",
    "lottery_numbers = []\n",
    "lottery_numbers.append(random.randint(0, 9) for i in range(7)) \n",
    "\n",
    "# Display the contents of the list\n",
    "for number in lottery_numbers:\n",
    "    print(number)"
   ]
  },
  {
   "cell_type": "code",
   "execution_count": null,
   "id": "cfa80e66-0d7f-4b89-9fa4-6e298614ce48",
   "metadata": {},
   "outputs": [],
   "source": [
    "At first I had no idea what the output was but I realized I messed up and noticed the appends a generator object to the list instead of individual numbers.  Below is the actual correct code (hopefully)"
   ]
  },
  {
   "cell_type": "code",
   "execution_count": 14,
   "id": "e6992a8d-1023-4508-873a-f34d36166cac",
   "metadata": {},
   "outputs": [
    {
     "name": "stdout",
     "output_type": "stream",
     "text": [
      "5\n",
      "7\n",
      "6\n",
      "4\n",
      "0\n",
      "8\n",
      "1\n"
     ]
    }
   ],
   "source": [
    "import random\n",
    "\n",
    "# Generate a seven-digit lottery number\n",
    "lottery_numbers = []\n",
    "for i in range(7):\n",
    "    number = random.randint(0, 9)\n",
    "    lottery_numbers.append(number)\n",
    "\n",
    "# Display the contents of the list\n",
    "for number in lottery_numbers:\n",
    "    print(number)"
   ]
  },
  {
   "cell_type": "code",
   "execution_count": null,
   "id": "46fbf7e5-5886-49c1-a494-320ffaf521f0",
   "metadata": {},
   "outputs": [],
   "source": [
    "Above you can see the random lottery generator works, and it uses a range of 9 and generates them in a random order. "
   ]
  },
  {
   "cell_type": "markdown",
   "id": "dcf400c8-373c-4614-a734-7f1ee640693c",
   "metadata": {},
   "source": [
    "Programming Excercise - Question 3 "
   ]
  },
  {
   "cell_type": "code",
   "execution_count": 15,
   "id": "170a7820-22d1-410a-ac19-92d67809dede",
   "metadata": {},
   "outputs": [
    {
     "name": "stdin",
     "output_type": "stream",
     "text": [
      "Enter the rainfall for month 1:  3.5 \n",
      "Enter the rainfall for month 2:  2.8\n",
      "Enter the rainfall for month 3:  4.2\n",
      "Enter the rainfall for month 4:  3.1\n",
      "Enter the rainfall for month 5:  5.0\n",
      "Enter the rainfall for month 6:  2.6\n",
      "Enter the rainfall for month 7:  4.0\n",
      "Enter the rainfall for month 8:  3.9\n",
      "Enter the rainfall for month 9:  3.0\n",
      "Enter the rainfall for month 10:  4.5\n",
      "Enter the rainfall for month 11:  2.9\n",
      "Enter the rainfall for month 12:  3.8\n"
     ]
    },
    {
     "ename": "TypeError",
     "evalue": "unsupported operand type(s) for +: 'int' and 'str'",
     "output_type": "error",
     "traceback": [
      "\u001b[0;31m---------------------------------------------------------------------------\u001b[0m",
      "\u001b[0;31mTypeError\u001b[0m                                 Traceback (most recent call last)",
      "Cell \u001b[0;32mIn[15], line 9\u001b[0m\n\u001b[1;32m      6\u001b[0m     rainfall\u001b[38;5;241m.\u001b[39mappend(\u001b[38;5;28minput\u001b[39m(\u001b[38;5;124mf\u001b[39m\u001b[38;5;124m\"\u001b[39m\u001b[38;5;124mEnter the rainfall for month \u001b[39m\u001b[38;5;132;01m{\u001b[39;00mi\u001b[38;5;241m+\u001b[39m\u001b[38;5;241m1\u001b[39m\u001b[38;5;132;01m}\u001b[39;00m\u001b[38;5;124m: \u001b[39m\u001b[38;5;124m\"\u001b[39m))\n\u001b[1;32m      8\u001b[0m \u001b[38;5;66;03m# Calculate the total and average rainfall\u001b[39;00m\n\u001b[0;32m----> 9\u001b[0m total_rainfall \u001b[38;5;241m=\u001b[39m \u001b[38;5;28msum\u001b[39m(rainfall)  \n\u001b[1;32m     10\u001b[0m average_rainfall \u001b[38;5;241m=\u001b[39m total_rainfall \u001b[38;5;241m/\u001b[39m \u001b[38;5;241m12\u001b[39m\n\u001b[1;32m     12\u001b[0m \u001b[38;5;66;03m# Find the months with the highest and lowest rainfall\u001b[39;00m\n",
      "\u001b[0;31mTypeError\u001b[0m: unsupported operand type(s) for +: 'int' and 'str'"
     ]
    }
   ],
   "source": [
    "# Initialize an empty list to store rainfall amounts\n",
    "rainfall = []\n",
    "\n",
    "# Prompt the user to enter rainfall for each month\n",
    "for i in range(12):\n",
    "    rainfall.append(input(f\"Enter the rainfall for month {i+1}: \"))\n",
    "\n",
    "# Calculate the total and average rainfall\n",
    "total_rainfall = sum(rainfall)  \n",
    "average_rainfall = total_rainfall / 12\n",
    "\n",
    "# Find the months with the highest and lowest rainfall\n",
    "max_rainfall = max(rainfall)\n",
    "min_rainfall = min(rainfall)\n",
    "\n",
    "# Display the results\n",
    "print(f\"Total rainfall for the year: {total_rainfall}\")\n",
    "print(f\"Average monthly rainfall: {average_rainfall}\")\n",
    "print(f\"Month with the highest rainfall: {rainfall.index(max_rainfall) + 1}\")\n",
    "print(f\"Month with the lowest rainfall: {rainfall.index(min_rainfall) + 1}\")\n"
   ]
  },
  {
   "cell_type": "markdown",
   "id": "f4f9dcf7-f399-413d-a060-457f82153b30",
   "metadata": {},
   "source": [
    "It looked like it was good since I was entering the rain and its values and at first I could not find out what was wrong until I looke over all of it again and noticed the program tries calculate the total and average rainfall directly on the input list without trying to convert the input strings to numbers which is why I got a type Error. This also helped me find out what was wrong with my program."
   ]
  },
  {
   "cell_type": "code",
   "execution_count": 1,
   "id": "3165e540-198e-4522-bda6-ea3c5fdfe52e",
   "metadata": {},
   "outputs": [
    {
     "name": "stdin",
     "output_type": "stream",
     "text": [
      "Enter the rainfall for month 1:  3.5\n",
      "Enter the rainfall for month 2:  2.8\n",
      "Enter the rainfall for month 3:  4.2\n",
      "Enter the rainfall for month 4:  3.1\n",
      "Enter the rainfall for month 5:  5.0\n",
      "Enter the rainfall for month 6:  2.6\n",
      "Enter the rainfall for month 7:  4.0\n",
      "Enter the rainfall for month 8:  3.9\n",
      "Enter the rainfall for month 9:  3.0\n",
      "Enter the rainfall for month 10:  4.5\n",
      "Enter the rainfall for month 11:  2.9\n",
      "Enter the rainfall for month 12:  3.8\n"
     ]
    },
    {
     "name": "stdout",
     "output_type": "stream",
     "text": [
      "Total rainfall for the year: 43.3\n",
      "Average monthly rainfall: 3.608333333333333\n",
      "Months with the highest rainfall: [5]\n",
      "Months with the lowest rainfall: [6]\n"
     ]
    }
   ],
   "source": [
    "# Initialize an empty list to store rainfall amounts\n",
    "rainfall = []\n",
    "\n",
    "# Prompt the user to enter rainfall for each month\n",
    "for i in range(12):\n",
    "    rainfall.append(float(input(f\"Enter the rainfall for month {i+1}: \")))\n",
    "\n",
    "# Calculate the total and average rainfall\n",
    "total_rainfall = sum(rainfall)\n",
    "average_rainfall = total_rainfall / 12\n",
    "\n",
    "# Find the months with the highest and lowest rainfall\n",
    "max_rainfall = max(rainfall)\n",
    "min_rainfall = min(rainfall)\n",
    "max_rainfall_months = [i + 1 for i, x in enumerate(rainfall) if x == max_rainfall]\n",
    "min_rainfall_months = [i + 1 for i, x in enumerate(rainfall) if x == min_rainfall]\n",
    "\n",
    "# Display the results\n",
    "print(f\"Total rainfall for the year: {total_rainfall}\")\n",
    "print(f\"Average monthly rainfall: {average_rainfall}\")\n",
    "print(f\"Months with the highest rainfall: {max_rainfall_months}\")\n",
    "print(f\"Months with the lowest rainfall: {min_rainfall_months}\")"
   ]
  },
  {
   "cell_type": "code",
   "execution_count": null,
   "id": "7364dd2c-87d6-4ccc-b79f-a674daa200d6",
   "metadata": {},
   "outputs": [],
   "source": [
    "I was able (as you can see above) to get the correct output. Just to make sure I used the values above in the incorrect program. "
   ]
  }
 ],
 "metadata": {
  "kernelspec": {
   "display_name": "Python 3 (ipykernel)",
   "language": "python",
   "name": "python3"
  },
  "language_info": {
   "codemirror_mode": {
    "name": "ipython",
    "version": 3
   },
   "file_extension": ".py",
   "mimetype": "text/x-python",
   "name": "python",
   "nbconvert_exporter": "python",
   "pygments_lexer": "ipython3",
   "version": "3.11.7"
  }
 },
 "nbformat": 4,
 "nbformat_minor": 5
}
