{
 "cells": [
  {
   "cell_type": "markdown",
   "id": "3f406567-8363-49f3-9837-d8c7d3064d74",
   "metadata": {},
   "source": [
    "Algorithm Workbench (Questions 9 & 10) "
   ]
  },
  {
   "cell_type": "markdown",
   "id": "22acea66-7ab8-4ba5-892d-8aae9d42eedb",
   "metadata": {},
   "source": [
    "Algorithm Workbench - Question 9 "
   ]
  },
  {
   "cell_type": "markdown",
   "id": "eb21beaf-4fae-4894-86a0-fd29acf3e924",
   "metadata": {},
   "source": [
    "Below were given a set of code in which we have to figure out what its going to print, based on what we know from the code we can see the code attempts to convert the string 'abc123' to a float, though since this isnt a valid number it causes a value error, which is wrriten to print \"This code caused a Value Error\", then it should secondily print \"The end\" since this is outside the loop and should print regardless of what happens. The code should in total output: This code caused a Value Error. | The end.                                                 Lets see if it works below:"
   ]
  },
  {
   "cell_type": "code",
   "execution_count": 3,
   "id": "0518bf1d-ad97-40b7-86e2-e3a61b68f685",
   "metadata": {},
   "outputs": [
    {
     "name": "stdout",
     "output_type": "stream",
     "text": [
      "This code caused a ValueError.\n",
      "The end.\n"
     ]
    }
   ],
   "source": [
    "try:\n",
    "    # Attempt to convert 'abc123' to a float, which will fail\n",
    "    x = float('abc123')\n",
    "    print('The conversion is complete.')\n",
    "except IOError:\n",
    "    # This block won't execute because the error is not an IOError\n",
    "    print('This code caused an IOError.')\n",
    "except ValueError:\n",
    "    # This block catches the ValueError caused by the invalid float conversion\n",
    "    print('This code caused a ValueError.')\n",
    "# This line always executes, regardless of whether an error occurred\n",
    "print('The end.')"
   ]
  },
  {
   "cell_type": "markdown",
   "id": "b8bffff0-fefb-49fe-aa94-cc7862e18d52",
   "metadata": {},
   "source": [
    "As you can see from the output above, our hypothesis we are correct about what was printed. "
   ]
  },
  {
   "cell_type": "markdown",
   "id": "09a03434-640d-497c-b0fc-7af73db0dfd1",
   "metadata": {},
   "source": [
    "Algorithm Workbench - Question 10 "
   ]
  },
  {
   "cell_type": "markdown",
   "id": "fce35f6e-ef78-4482-ab9a-e034a22c1061",
   "metadata": {},
   "source": [
    "Like question 9 we can see were given a code and we have to interpret what well print. As we analyze we see the code tries to convert 'abc123' to a float, which essentailly brings up a 'VakueError' since the string is not a valid number. As for the 'expect' block, there no specific block for 'ValueError', the block catches it and prints 'An error happened'. After going through the lines it finally prints 'The end'. So in total the output should be: An error happened. | The end."
   ]
  },
  {
   "cell_type": "code",
   "execution_count": 4,
   "id": "17240dcd-72af-477a-9510-85181e30fc23",
   "metadata": {},
   "outputs": [
    {
     "name": "stdout",
     "output_type": "stream",
     "text": [
      "An error happened.\n",
      "The end.\n"
     ]
    }
   ],
   "source": [
    "try:\n",
    "    # Attempt to convert 'abc123' to a float, which will fail\n",
    "    x = float('abc123')\n",
    "    print(x)\n",
    "except IOError:\n",
    "    # This block won't execute because the error is not an IOError\n",
    "    print('This code caused an IOError.')\n",
    "except ZeroDivisionError:\n",
    "    # This block won't execute because the error is not a ZeroDivisionError\n",
    "    print('This code caused a ZeroDivisionError.')\n",
    "except:\n",
    "    # This block catches any error that is not specifically caught by the above blocks\n",
    "    print('An error happened.')\n",
    "# This line always executes, regardless of whether an error occurred\n",
    "print('The end.')"
   ]
  },
  {
   "cell_type": "markdown",
   "id": "58fa4278-3765-43b2-8538-20623f06848d",
   "metadata": {},
   "source": [
    "As you can see above, we were right in our educational \"guess\", which is really just known by looking at each line and look which is true"
   ]
  },
  {
   "cell_type": "code",
   "execution_count": null,
   "id": "d254ace7-2059-46d8-801b-2d71bb35278b",
   "metadata": {},
   "outputs": [],
   "source": [
    "Programming Excercises (Questions 1,6,9, & 10)"
   ]
  },
  {
   "cell_type": "markdown",
   "id": "c7a38127-a31c-4505-94a5-96d679d82d0b",
   "metadata": {},
   "source": [
    "Programming Excercises - Question 1"
   ]
  },
  {
   "cell_type": "code",
   "execution_count": 4,
   "id": "d7f1e9d3-443a-4362-be1c-643e783fc82a",
   "metadata": {},
   "outputs": [
    {
     "name": "stdout",
     "output_type": "stream",
     "text": [
      "10\n",
      "20\n",
      "30\n",
      "40\n",
      "50\n"
     ]
    }
   ],
   "source": [
    "# Open the file 'numbers.txt' in read mode\n",
    "with open(\"numbers.txt\", \"r\") as file:\n",
    "    # Read all lines from the file into a list\n",
    "    lines = file.readlines()\n",
    "    \n",
    "    # Iterate over each line in the list\n",
    "    for line in lines:\n",
    "        # Remove any leading/trailing whitespace characters from the line\n",
    "        # and print the resulting string (which should be a number)\n",
    "        print(line.strip())"
   ]
  },
  {
   "cell_type": "markdown",
   "id": "6df9c9d6-2123-4408-a644-b4bb19a37206",
   "metadata": {},
   "source": [
    "Above is how we would do this and call the things within the file. First thr code opens the file 'numbers.txt' in read mode ('\"r\"'). Secondly, it reads all the lines from the file and stores them in a list called 'lines'; it then iterates over each line in the list. Lastly it strips any leading or trailing whitespace from each line using 'strip()' and the prints the newly cleaned line. Evidently it should be a number"
   ]
  },
  {
   "cell_type": "markdown",
   "id": "e37444ef-44b3-4c00-a6a2-e61ae83cbcd6",
   "metadata": {},
   "source": [
    "Programming Excercises - Question 6"
   ]
  },
  {
   "cell_type": "code",
   "execution_count": 3,
   "id": "4b301d97-8727-486c-8a2d-1c6dc46a3d50",
   "metadata": {},
   "outputs": [
    {
     "name": "stdout",
     "output_type": "stream",
     "text": [
      "The average of the numbers is 30.00\n"
     ]
    }
   ],
   "source": [
    "# Try to open the specified file\n",
    "try:\n",
    "    with open(\"numbers.txt\", \"r\") as file:\n",
    "        # Read all lines from the file\n",
    "        lines = file.readlines()\n",
    "        \n",
    "        # Initialize variables to hold the sum and count of numbers\n",
    "        total = 0\n",
    "        count = 0\n",
    "        \n",
    "        # Iterate over each line\n",
    "        for line in lines:\n",
    "            # Convert the line to an integer and add to total\n",
    "            total += int(line.strip())\n",
    "            # Increment the count of numbers\n",
    "            count += 1\n",
    "        \n",
    "        # Calculate the average\n",
    "        if count > 0:\n",
    "            average = total / count\n",
    "            print(f\"The average of the numbers is {average:.2f}\")\n",
    "        else:\n",
    "            print(\"The file is empty.\")\n",
    "\n",
    "# Handle the case where the file does not exist\n",
    "except FileNotFoundError:\n",
    "    print(\"The file 'numbers.txt' does not exist.\")\n",
    "# Handle the case where there is a value that cannot be converted to an integer\n",
    "except ValueError:\n",
    "    print(\"The file contains non-numeric data.\")"
   ]
  },
  {
   "cell_type": "markdown",
   "id": "6e3ed348-6862-421c-a7e9-4b36a8884c8e",
   "metadata": {},
   "source": [
    "Lets go step by step in explaining my thought process during this. First off, the program originally tries to open the file 'numbers.txt' in read mode, then it reads all lines from the file into a list which is called 'lines'. It then initializes 'total' to hold the sum of numbers and 'count' to count the number of lines. It then iterates over each line then converts it into an integer and adds it to the total. After it processes all the lines, it take the total and divided that by the count. Now if the file is empty, it prints a message indicating that (just incase)."
   ]
  },
  {
   "cell_type": "markdown",
   "id": "5284224b-8d00-4974-8751-15eb2494d286",
   "metadata": {},
   "source": [
    "Programming Excercises - Question 9 "
   ]
  },
  {
   "cell_type": "code",
   "execution_count": 1,
   "id": "4665d602-3681-45d1-abcd-e89cb536c20c",
   "metadata": {},
   "outputs": [
    {
     "name": "stdout",
     "output_type": "stream",
     "text": [
      "File 'numbers.txt' created successfully.\n"
     ]
    }
   ],
   "source": [
    "# Create and write to the file 'numbers.txt'\n",
    "with open(\"numbers.txt\", \"w\") as file:\n",
    "    file.write(\"10\\n\")\n",
    "    file.write(\"20\\n\")\n",
    "    file.write(\"30\\n\")\n",
    "    file.write(\"40\\n\")\n",
    "    file.write(\"50\\n\")\n",
    "\n",
    "print(\"File 'numbers.txt' created successfully.\")"
   ]
  },
  {
   "cell_type": "code",
   "execution_count": 2,
   "id": "3c539dbb-923d-41bc-baab-5fc541b51d04",
   "metadata": {},
   "outputs": [
    {
     "name": "stdin",
     "output_type": "stream",
     "text": [
      "Enter the name of the file:  numbers.txt\n"
     ]
    },
    {
     "name": "stdout",
     "output_type": "stream",
     "text": [
      "The average of the valid numbers is 30.00\n"
     ]
    }
   ],
   "source": [
    "# Ask the user for the name of the file\n",
    "file_name = input(\"Enter the name of the file: \")\n",
    "\n",
    "try:\n",
    "    # Try to open the specified file\n",
    "    with open(file_name, \"r\") as file:\n",
    "        # Read all lines from the file\n",
    "        lines = file.readlines()\n",
    "        \n",
    "        # Initialize variables to hold the sum and count of numbers\n",
    "        total = 0\n",
    "        count = 0\n",
    "        \n",
    "        # Iterate over each line\n",
    "        for line in lines:\n",
    "            try:\n",
    "                # Convert the line to an integer and add to total\n",
    "                total += int(line.strip())\n",
    "                # Increment the count of numbers\n",
    "                count += 1\n",
    "            except ValueError:\n",
    "                # Handle the case where a line cannot be converted to an integer\n",
    "                print(f\"Warning: '{line.strip()}' is not a valid number and will be ignored.\")\n",
    "        \n",
    "        # Calculate the average\n",
    "        if count > 0:\n",
    "            average = total / count\n",
    "            print(f\"The average of the valid numbers is {average:.2f}\")\n",
    "        else:\n",
    "            print(\"The file does not contain any valid numbers.\")\n",
    "\n",
    "# Handle the case where there is an IOError (like file not found)\n",
    "except IOError:\n",
    "    print(f\"Error: The file '{file_name}' could not be opened.\")"
   ]
  },
  {
   "cell_type": "markdown",
   "id": "4505030a-e0c3-4900-89f4-7c9e6923883e",
   "metadata": {},
   "source": [
    "Above is pretty simple to understand all we changed from 6 is adding error handling for 'I0Error' and 'ValueError', these changes are minimal but essential to the problem asked. All we did is add on to help the program handle errors smoothly and keep running. More specifically, the 'I0Error' added a try-except block to catch errors when opening the file, and if the file doesnt exist it prints an error message. As for the 'ValueError, we added another 'try-except' block to catch error when converting the lines into integers. If a line isnt a number it prints a warning and skips that line "
   ]
  },
  {
   "cell_type": "markdown",
   "id": "fd523048-1a3c-410d-b497-64a7b95d9943",
   "metadata": {},
   "source": [
    "Programming Excercise - Question 10"
   ]
  },
  {
   "cell_type": "code",
   "execution_count": 5,
   "id": "a7ad620d-1961-45dc-894c-70492d2808ba",
   "metadata": {},
   "outputs": [
    {
     "name": "stdin",
     "output_type": "stream",
     "text": [
      "Enter player's name (or 'done' to finish):  Chris\n",
      "Enter Chris's score:  95\n",
      "Enter player's name (or 'done' to finish):  Henry\n",
      "Enter Henry's score:  89\n",
      "Enter player's name (or 'done' to finish):  Alex\n",
      "Enter Alex's score:  90\n",
      "Enter player's name (or 'done' to finish):  done\n"
     ]
    },
    {
     "name": "stdout",
     "output_type": "stream",
     "text": [
      "Data saved to golf.txt.\n"
     ]
    }
   ],
   "source": [
    "# Program to read player's name and score, then save to golf.txt\n",
    "\n",
    "# Function to get player data\n",
    "def get_player_data():\n",
    "    players = []\n",
    "    while True:\n",
    "        name = input(\"Enter player's name (or 'done' to finish): \")\n",
    "        if name.lower() == 'done':\n",
    "            break\n",
    "        score = input(f\"Enter {name}'s score: \")\n",
    "        players.append((name, score))\n",
    "    return players\n",
    "\n",
    "# Function to save player data to file\n",
    "def save_to_file(players, filename=\"golf.txt\"):\n",
    "    with open(filename, \"w\") as file:\n",
    "        for name, score in players:\n",
    "            file.write(f\"{name},{score}\\n\")\n",
    "    print(f\"Data saved to {filename}.\")\n",
    "\n",
    "# Main program\n",
    "players = get_player_data()\n",
    "save_to_file(players)"
   ]
  },
  {
   "cell_type": "markdown",
   "id": "872428e1-f714-4c8c-9199-c2c36d6bfb63",
   "metadata": {},
   "source": [
    "As you can see above we have inputted the names I randomly chose and their correlated scores, I also saved the data to the file when the file is recalled down below it when then list the players and their inputted scores I have given them. From what I have inputted the output for the code below should be chris with 95, henry with 89, and alex with 90. To be more specific the 'get_player_data' function prompts the user to enter player names and scores in a loop, the loop continues until the user types 'done'. It stores the player names and scores in a list of tuples. Then the 'save_to_file' function opens 'gold.txt' in write mode in which it writes each players name and score of the file, seperated by a comma. Lastly the main program calls 'get_player_data' to collect input and also calls 'save_to_file' to save the collected data to 'golf.txt'.You can see how it works below and how the same idea can carry onto program two.  "
   ]
  },
  {
   "cell_type": "code",
   "execution_count": 6,
   "id": "2db6ccdb-6176-4377-8539-40394c2cea81",
   "metadata": {},
   "outputs": [
    {
     "name": "stdout",
     "output_type": "stream",
     "text": [
      "Player Name | Score\n",
      "--------------------\n",
      "Chris        | 95\n",
      "Henry        | 89\n",
      "Alex         | 90\n"
     ]
    }
   ],
   "source": [
    "# Program to read and display records from golf.txt\n",
    "\n",
    "# Function to read from the file and display records\n",
    "def read_from_file(filename=\"golf.txt\"):\n",
    "    try:\n",
    "        # Try to open the specified file in read mode\n",
    "        with open(filename, \"r\") as file:\n",
    "            # Read all lines from the file\n",
    "            lines = file.readlines()\n",
    "            \n",
    "            # Check if the file is empty\n",
    "            if not lines:\n",
    "                print(\"The file is empty.\")\n",
    "                return\n",
    "            \n",
    "            # Print the header for the output table\n",
    "            print(\"Player Name | Score\")\n",
    "            print(\"--------------------\")\n",
    "            \n",
    "            # Iterate over each line in the file\n",
    "            for line in lines:\n",
    "                # Split the line into name and score based on the comma separator\n",
    "                name, score = line.strip().split(',')\n",
    "                # Print the player's name and score in a formatted way\n",
    "                print(f\"{name:12} | {score}\")\n",
    "    \n",
    "    # Handle the case where the file does not exist\n",
    "    except FileNotFoundError:\n",
    "        print(f\"The file {filename} does not exist.\")\n",
    "    \n",
    "    # Handle any other I/O errors that might occur\n",
    "    except IOError:\n",
    "        print(f\"An error occurred while reading the file {filename}.\")\n",
    "\n",
    "# Main program\n",
    "# Call the function to read from the file and display the records\n",
    "read_from_file()"
   ]
  },
  {
   "cell_type": "markdown",
   "id": "6026c9fd-9f2b-4725-8594-893820d7f694",
   "metadata": {},
   "source": [
    "As you can see above, our inputted values came out perfectly especially with the lines seperating the score from the player name. My first step for program 2 was to get the function definition, then let the program attempt to open the file (which it does). All lines from the file are read into a list called 'lines'; it then checks for empty files, the print the header, then make sure each line from the file is processed by splitting into name and score, and then printed in a formatted manner. if the file doesnt exist, a specific error message is printed. Lastly if an other I/O are caught and an error message is printed.  "
   ]
  }
 ],
 "metadata": {
  "kernelspec": {
   "display_name": "Python 3 (ipykernel)",
   "language": "python",
   "name": "python3"
  },
  "language_info": {
   "codemirror_mode": {
    "name": "ipython",
    "version": 3
   },
   "file_extension": ".py",
   "mimetype": "text/x-python",
   "name": "python",
   "nbconvert_exporter": "python",
   "pygments_lexer": "ipython3",
   "version": "3.11.7"
  }
 },
 "nbformat": 4,
 "nbformat_minor": 5
}
