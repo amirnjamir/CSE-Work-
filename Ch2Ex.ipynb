{
 "cells": [
  {
   "cell_type": "markdown",
   "id": "d0c94843-777b-4a86-8791-2f1f5bbf1275",
   "metadata": {},
   "source": [
    "Chapter 2 Excercises"
   ]
  },
  {
   "cell_type": "markdown",
   "id": "844addbf-559a-43ea-b570-a84d0cb54472",
   "metadata": {},
   "source": [
    "Algorithm Workbench - Number 8"
   ]
  },
  {
   "cell_type": "markdown",
   "id": "f47c6f90-b87e-40d7-8392-6d10d4a55ec3",
   "metadata": {},
   "source": [
    "Were presented with a print function and asked to predict what the outuput will be "
   ]
  },
  {
   "cell_type": "markdown",
   "id": "e8add54a-7b6d-4ad4-8c93-99218ea248bd",
   "metadata": {},
   "source": [
    "a = 5 \n",
    "b = 2\n",
    "c = 3\n",
    "result = a + b * c \n",
    "print(result)"
   ]
  },
  {
   "cell_type": "markdown",
   "id": "61ec1921-3c87-4f1e-95cd-eab5ba5a8d00",
   "metadata": {},
   "source": [
    "First we substitute the values into the variables. From this we can use pemdas to help us get our answer, by using the order of operations. First we multiply since therese no parantheses or exponets. we think add the 5 to our cacluclated 6 to get 11, which is the answer. Below, our code can prove this. "
   ]
  },
  {
   "cell_type": "code",
   "execution_count": 1,
   "id": "6f1102ec-496d-4a63-aae7-58a1d386afda",
   "metadata": {},
   "outputs": [
    {
     "name": "stdout",
     "output_type": "stream",
     "text": [
      "11\n"
     ]
    }
   ],
   "source": [
    "a = 5 \n",
    "b = 2\n",
    "c = 3\n",
    "result = a + b * c \n",
    "print(result)"
   ]
  },
  {
   "cell_type": "markdown",
   "id": "e9e51624-7086-4636-9d51-ea9bc1dfdb2e",
   "metadata": {},
   "source": [
    "Programming Excercises - Number 2 (Sales Predicition) "
   ]
  },
  {
   "cell_type": "markdown",
   "id": "2a832f8c-6368-4d8b-9cf9-df77801ef3a2",
   "metadata": {},
   "source": [
    "A company has determined that its annual profit is typically 23 percent of total sales. Write a program that asks the user to enter the projected amount of total sales, then displays the profit that will be made from that amount.Hint: Use the value 0.23 to represent 23 percent. \n",
    "\n",
    "Below is the code for this excercise! I used the a sales amount of 1000$, which should give me a total of 230$"
   ]
  },
  {
   "cell_type": "code",
   "execution_count": 4,
   "id": "6faa58e9-126c-4d0b-acfd-89776df51333",
   "metadata": {},
   "outputs": [
    {
     "name": "stdin",
     "output_type": "stream",
     "text": [
      "Enter the projected amount of total sales:  1000\n"
     ]
    },
    {
     "name": "stdout",
     "output_type": "stream",
     "text": [
      "The profit that will be made from the projected sales is: $230.00\n"
     ]
    }
   ],
   "source": [
    "# Ask the user to enter the projected amount of total sales\n",
    "total_sales = float(input(\"Enter the projected amount of total sales: \"))\n",
    "\n",
    "# Calculate the profit as 23 percent of total sales\n",
    "profit = total_sales * 0.23\n",
    "\n",
    "# Display the profit\n",
    "print(f\"The profit that will be made from the projected sales is: ${profit:.2f}\")"
   ]
  },
  {
   "cell_type": "markdown",
   "id": "d0a7bef0-6523-4990-91b7-de0eac78fd9c",
   "metadata": {},
   "source": [
    "Programming Excercises - Number 13 (Planting Grapevines) "
   ]
  },
  {
   "cell_type": "markdown",
   "id": "83e2e4cc-7b70-4d8b-8d8a-bc2389ee5e5e",
   "metadata": {},
   "source": [
    "A vineyard owner is planting several new rows of grapevines, and needs to know how many grapevines to plant in each row. She has determined that after measuring the length of a future row, she can use the following formula to calculate the number of vines that will fit in the row, along with the trellis end-post assemblies that will need to be constructed at each end of the row:\n",
    "\n",
    "V = R-2E / S\n",
    "\n",
    "The terms in the formula are: V is the number of grapevines that will fit in the row. R is the length of the row, in feet. E is the amount of space, in feet, used by an end-post assembly. S is the space between vines, in feet. Write a program that makes the calculation for the vineyard owner. The program should ask the user to input the following: \n",
    "-The length of the row, in feet \n",
    "-The amount of space used by an end-post assembly, in feet\n",
    "-The amount of space between the vines, in feet\n",
    "\n",
    "Once the input data has been entered, the program should calculate and display the number of grapevines that will fit in the row. Below is the code used to answer the prompt. I inputted 100.0 for length, 3.0 for amount of space, and 8.0 for space between vines. I did this so I can prove its not just random code but actual code that works. "
   ]
  },
  {
   "cell_type": "code",
   "execution_count": 5,
   "id": "bf2c440f-f2b7-41be-ac7e-7f790d1a66ba",
   "metadata": {},
   "outputs": [
    {
     "name": "stdin",
     "output_type": "stream",
     "text": [
      "Enter the length of the row, in feet:  100.0\n",
      "Enter the amount of space used by an end-post assembly, in feet:  3.0\n",
      "Enter the space between vines, in feet:  8.0\n"
     ]
    },
    {
     "name": "stdout",
     "output_type": "stream",
     "text": [
      "The number of grapevines that will fit in the row is: 12\n"
     ]
    }
   ],
   "source": [
    "# Get input from the user\n",
    "R = float(input(\"Enter the length of the row, in feet: \"))\n",
    "E = float(input(\"Enter the amount of space used by an end-post assembly, in feet: \"))\n",
    "S = float(input(\"Enter the space between vines, in feet: \"))\n",
    "\n",
    "# Calculate the number of grapevines that will fit in the row\n",
    "V = (R - 2 * E) / S\n",
    "\n",
    "# Display the result\n",
    "print(f\"The number of grapevines that will fit in the row is: {V:.0f}\")"
   ]
  },
  {
   "cell_type": "markdown",
   "id": "3627ba4f-587d-4b99-9842-bd9e4f99181d",
   "metadata": {},
   "source": [
    "Above you can see the code wroks as intended"
   ]
  }
 ],
 "metadata": {
  "kernelspec": {
   "display_name": "Python 3 (ipykernel)",
   "language": "python",
   "name": "python3"
  },
  "language_info": {
   "codemirror_mode": {
    "name": "ipython",
    "version": 3
   },
   "file_extension": ".py",
   "mimetype": "text/x-python",
   "name": "python",
   "nbconvert_exporter": "python",
   "pygments_lexer": "ipython3",
   "version": "3.11.7"
  }
 },
 "nbformat": 4,
 "nbformat_minor": 5
}
