{
 "cells": [
  {
   "cell_type": "markdown",
   "id": "10d38210-707e-4ba0-ada6-8bb2172950d4",
   "metadata": {},
   "source": [
    "Algorithm Workbench - (Questions 6 & 5)"
   ]
  },
  {
   "cell_type": "markdown",
   "id": "8946e95d-8355-47d8-b8a2-c67f654c27df",
   "metadata": {},
   "source": [
    "Algorithm Workbench - Question 6 "
   ]
  },
  {
   "cell_type": "code",
   "execution_count": 10,
   "id": "3e6cfe82-794e-482d-93e1-7a8ac981212d",
   "metadata": {},
   "outputs": [
    {
     "name": "stdout",
     "output_type": "stream",
     "text": [
      "Modified string: This is a TesT sTring To converT T To T\n"
     ]
    }
   ],
   "source": [
    "# Original string\n",
    "original_string = \"this is a test string to convert t to T\"\n",
    "\n",
    "# Convert all occurrences of 't' to 'T'\n",
    "modified_string = original_string.replace('t', 'T')\n",
    "\n",
    "# Print the modified string\n",
    "print(\"Modified string:\", modified_string)"
   ]
  },
  {
   "cell_type": "markdown",
   "id": "5d461d7f-dc1d-4507-917b-4fa7375dd082",
   "metadata": {},
   "source": [
    "As you can see above, every 't' is converted into a 'T' so we can see it works based off the directions we were given. Lets break it down step by step: we give a variable for the original string a name, as simple as naming it 'original string' and giving it a value which is the string itself. We then use 'replace' after saying original string to make sure every individual t becomes capitalized. We then print the string. Its important to note aswell that if using uppper it was capitalize every letter instead of just the T's. "
   ]
  },
  {
   "cell_type": "markdown",
   "id": "7de00f52-ab54-4454-8c99-da0ecc91b414",
   "metadata": {},
   "source": [
    "Algorithm Workbench - Question 5"
   ]
  },
  {
   "cell_type": "code",
   "execution_count": 12,
   "id": "57694626-d744-4944-afd6-b94657729a93",
   "metadata": {},
   "outputs": [
    {
     "ename": "SyntaxError",
     "evalue": "cannot assign to subscript here. Maybe you meant '==' instead of '='? (3189328656.py, line 5)",
     "output_type": "error",
     "traceback": [
      "\u001b[0;36m  Cell \u001b[0;32mIn[12], line 5\u001b[0;36m\u001b[0m\n\u001b[0;31m    if string[-4:] = '.com':\u001b[0m\n\u001b[0m       ^\u001b[0m\n\u001b[0;31mSyntaxError\u001b[0m\u001b[0;31m:\u001b[0m cannot assign to subscript here. Maybe you meant '==' instead of '='?\n"
     ]
    }
   ],
   "source": [
    "# Define the function to check if a string ends with '.com'\n",
    "def ends_with_com(string):\n",
    "   \n",
    "    # Attempting to slice the string and compare it to '.com'\n",
    "    if string[-4:] = '.com':\n",
    "        # Return True if the sliced part is '.com'\n",
    "        return True\n",
    "    else:\n",
    "        # Return False if the sliced part is not '.com'\n",
    "        return False\n",
    "\n",
    "# Example usage:\n",
    "print(ends_with_com(\"example.com\"))  # Expected: True\n",
    "print(ends_with_com(\"example.org\"))  # Expected: False"
   ]
  },
  {
   "cell_type": "markdown",
   "id": "0889c3a5-aa5d-46c2-8d11-7be0d9baf8f8",
   "metadata": {},
   "source": [
    "The Syntax Error helps me narrow it down and even tells me that I meant to use == instead of = which is insanely helpful instead of me having to go and manually find my solution to the problem at hand."
   ]
  },
  {
   "cell_type": "code",
   "execution_count": 13,
   "id": "58f781d1-c9e1-41f5-bdad-3510c49d72c5",
   "metadata": {},
   "outputs": [
    {
     "name": "stdout",
     "output_type": "stream",
     "text": [
      "False\n",
      "False\n"
     ]
    }
   ],
   "source": [
    "# Define the function to check if a string ends with '.com'\n",
    "def ends_with_com(string):\n",
    "    # Check if the fourth last character is '.com'\n",
    "    if string[-4] == '.com':\n",
    "        # Return True if the condition is met\n",
    "        return True\n",
    "    else:\n",
    "        # Return False if the condition is not met\n",
    "        return False\n",
    "\n",
    "# Example usage:\n",
    "print(ends_with_com(\"example.com\"))  # Expected: True\n",
    "print(ends_with_com(\"example.org\"))  # Expected: False"
   ]
  },
  {
   "cell_type": "code",
   "execution_count": null,
   "id": "9f868cb6-7686-4701-a97b-4278f3b97378",
   "metadata": {},
   "outputs": [],
   "source": [
    "While at first glance it may look like we did it since we got an output, having an output doesnt always mean we got the right output. Its supposed to say false then true on the line below. I figured out that the code trying to compare one character with four characters. "
   ]
  },
  {
   "cell_type": "code",
   "execution_count": 14,
   "id": "70bed659-7dc0-45ff-82ae-cc47e52d9936",
   "metadata": {},
   "outputs": [
    {
     "name": "stdout",
     "output_type": "stream",
     "text": [
      "True\n",
      "False\n"
     ]
    }
   ],
   "source": [
    "# Define the function\n",
    "def ends_with_com(string):\n",
    "    return string.endswith('.com')\n",
    "\n",
    "# Test the function\n",
    "test_string = \"example.com\"\n",
    "print(ends_with_com(test_string))  # Output: True\n",
    "\n",
    "test_string = \"example.org\"\n",
    "print(ends_with_com(test_string))  # Output: False"
   ]
  },
  {
   "cell_type": "markdown",
   "id": "9733c76a-df58-475e-9394-6a50b36449da",
   "metadata": {},
   "source": [
    "As you can see above we got what we wanted and what was right for the output. LEts try and break it down to go through our thought process. First we have function definition and its name, then an if statement which relates to a boolean operator on if it is the same as what we inputted which is '.com'. Anything besides .com for the boolean operator and how it should return as true, is going to return false. "
   ]
  },
  {
   "cell_type": "markdown",
   "id": "ee7f5cbe-20c8-4c96-be9b-31b154e7b0ed",
   "metadata": {},
   "source": [
    "Programming Excercises - Questions (1, 2, 10 & 8)"
   ]
  },
  {
   "cell_type": "markdown",
   "id": "509afdac-b161-4bb4-9d22-c33d047e43f7",
   "metadata": {},
   "source": [
    "Programming Excercises - Question 1 "
   ]
  },
  {
   "cell_type": "code",
   "execution_count": 16,
   "id": "a77c680d-67d8-45ab-a1ca-e84cef8673ae",
   "metadata": {},
   "outputs": [
    {
     "ename": "TypeError",
     "evalue": "can only concatenate list (not \"str\") to list",
     "output_type": "error",
     "traceback": [
      "\u001b[0;31m---------------------------------------------------------------------------\u001b[0m",
      "\u001b[0;31mTypeError\u001b[0m                                 Traceback (most recent call last)",
      "Cell \u001b[0;32mIn[16], line 13\u001b[0m\n\u001b[1;32m     11\u001b[0m \u001b[38;5;66;03m# Example usage:\u001b[39;00m\n\u001b[1;32m     12\u001b[0m user_input \u001b[38;5;241m=\u001b[39m \u001b[38;5;124m\"\u001b[39m\u001b[38;5;124mJohn William Smith\u001b[39m\u001b[38;5;124m\"\u001b[39m\n\u001b[0;32m---> 13\u001b[0m \u001b[38;5;28mprint\u001b[39m(get_initials(user_input))\n",
      "Cell \u001b[0;32mIn[16], line 9\u001b[0m, in \u001b[0;36mget_initials\u001b[0;34m(full_name)\u001b[0m\n\u001b[1;32m      6\u001b[0m initials \u001b[38;5;241m=\u001b[39m [part[\u001b[38;5;241m0\u001b[39m]\u001b[38;5;241m.\u001b[39mupper() \u001b[38;5;28;01mfor\u001b[39;00m part \u001b[38;5;129;01min\u001b[39;00m name_parts]\n\u001b[1;32m      8\u001b[0m \u001b[38;5;66;03m# Attempt to join the initials with a period and space\u001b[39;00m\n\u001b[0;32m----> 9\u001b[0m \u001b[38;5;28;01mreturn\u001b[39;00m \u001b[38;5;124m'\u001b[39m\u001b[38;5;124m. \u001b[39m\u001b[38;5;124m'\u001b[39m\u001b[38;5;241m.\u001b[39mjoin(initials \u001b[38;5;241m+\u001b[39m \u001b[38;5;124m'\u001b[39m\u001b[38;5;124m.\u001b[39m\u001b[38;5;124m'\u001b[39m)\n",
      "\u001b[0;31mTypeError\u001b[0m: can only concatenate list (not \"str\") to list"
     ]
    }
   ],
   "source": [
    "def get_initials(full_name):\n",
    "    # Split the full name into parts (first, middle, and last)\n",
    "    name_parts = full_name.split()\n",
    "    \n",
    "    # Get the first letter of each part\n",
    "    initials = [part[0].upper() for part in name_parts]\n",
    "    \n",
    "    # Attempt to join the initials with a period and space\n",
    "    return '. '.join(initials + '.')\n",
    "\n",
    "# Example usage:\n",
    "user_input = \"John William Smith\"\n",
    "print(get_initials(user_input))  # Expected: J. W. S."
   ]
  },
  {
   "cell_type": "markdown",
   "id": "fa668a3b-4bcb-4d1c-afbb-09abb7e13d20",
   "metadata": {},
   "source": [
    "Thanks to notification that its a type error, that can most definetly narrow it down, it seems the code incorrectly attmpts to concatenate a string ('.') to a list ('initials')"
   ]
  },
  {
   "cell_type": "code",
   "execution_count": 20,
   "id": "c35aac0e-1caf-4ef4-9d2e-e8791ecd5487",
   "metadata": {},
   "outputs": [
    {
     "ename": "AttributeError",
     "evalue": "'list' object has no attribute 'upper'",
     "output_type": "error",
     "traceback": [
      "\u001b[0;31m---------------------------------------------------------------------------\u001b[0m",
      "\u001b[0;31mAttributeError\u001b[0m                            Traceback (most recent call last)",
      "Cell \u001b[0;32mIn[20], line 22\u001b[0m\n\u001b[1;32m     20\u001b[0m \u001b[38;5;66;03m# Example usage:\u001b[39;00m\n\u001b[1;32m     21\u001b[0m user_input \u001b[38;5;241m=\u001b[39m \u001b[38;5;124m\"\u001b[39m\u001b[38;5;124mJohn William Smith\u001b[39m\u001b[38;5;124m\"\u001b[39m\n\u001b[0;32m---> 22\u001b[0m \u001b[38;5;28mprint\u001b[39m(get_initials(user_input))\n",
      "Cell \u001b[0;32mIn[20], line 18\u001b[0m, in \u001b[0;36mget_initials\u001b[0;34m(full_name)\u001b[0m\n\u001b[1;32m     15\u001b[0m initials \u001b[38;5;241m=\u001b[39m [part[\u001b[38;5;241m0\u001b[39m] \u001b[38;5;28;01mfor\u001b[39;00m part \u001b[38;5;129;01min\u001b[39;00m name_parts]\n\u001b[1;32m     17\u001b[0m \u001b[38;5;66;03m# Attempt to join the initials with a period and space\u001b[39;00m\n\u001b[0;32m---> 18\u001b[0m \u001b[38;5;28;01mreturn\u001b[39;00m \u001b[38;5;124m'\u001b[39m\u001b[38;5;124m. \u001b[39m\u001b[38;5;124m'\u001b[39m\u001b[38;5;241m.\u001b[39mjoin(initials\u001b[38;5;241m.\u001b[39mupper()) \u001b[38;5;241m+\u001b[39m \u001b[38;5;124m'\u001b[39m\u001b[38;5;124m.\u001b[39m\u001b[38;5;124m'\u001b[39m\n",
      "\u001b[0;31mAttributeError\u001b[0m: 'list' object has no attribute 'upper'"
     ]
    }
   ],
   "source": [
    "def get_initials(full_name):\n",
    "    \"\"\"\n",
    "    This function takes a full name (first, middle, and last) and returns the initials.\n",
    "    \n",
    "    Parameters:\n",
    "    full_name (str): The full name containing first, middle, and last names.\n",
    "    \n",
    "    Returns:\n",
    "    str: The initials of the given name.\n",
    "    \"\"\"\n",
    "    # Attempt to split the full name into parts (first, middle, and last)\n",
    "    name_parts = full_name.split()\n",
    "    \n",
    "    # Get the first letter of each part and capitalize it\n",
    "    initials = [part[0] for part in name_parts]\n",
    "    \n",
    "    # Attempt to join the initials with a period and space\n",
    "    return '. '.join(initials.upper()) + '.'\n",
    "\n",
    "# Example usage:\n",
    "user_input = \"John William Smith\"\n",
    "print(get_initials(user_input))  # Expected: J. W. S."
   ]
  },
  {
   "cell_type": "markdown",
   "id": "d71a9275-020a-4e75-b615-33bbfd044da2",
   "metadata": {},
   "source": [
    "Like before we get an error but this time we get an attribute error and it lets me know that I have no upper so I can correct that pretty quickly and easily. "
   ]
  },
  {
   "cell_type": "code",
   "execution_count": 22,
   "id": "674e2462-571a-489d-aff8-5d5b8580eca2",
   "metadata": {},
   "outputs": [
    {
     "name": "stdout",
     "output_type": "stream",
     "text": [
      "J. W. S.\n"
     ]
    }
   ],
   "source": [
    "def get_initials(full_name):\n",
    "    # Split the full name into parts (first, middle, and last)\n",
    "    name_parts = full_name.split()\n",
    "    \n",
    "    # Get the first letter of each part and capitalize it\n",
    "    initials = [part[0].upper() for part in name_parts]\n",
    "    \n",
    "    # Join the initials with a period and space\n",
    "    return '. '.join(initials) + '.'\n",
    "\n",
    "# Example usage:\n",
    "user_input = \"John William Smith\"\n",
    "print(get_initials(user_input))  # Output: J. W. S."
   ]
  },
  {
   "cell_type": "markdown",
   "id": "15e17dd9-e829-42f7-9800-fde782ea5568",
   "metadata": {},
   "source": [
    "As you can see I finally get the right ouput so lets go over how we got here. I first define the function and then split the name by using .split() and make sure you have empty parantheses. Then I create a variable named initials which has an attribute for upper which I added in the previous step, and make sure its inidivdualized for 'part' in 'name_parts'. Thirdly, I return the join initials and add a period and space using the '+' symbol. I randomly picked a name, to shoe you it works. "
   ]
  },
  {
   "cell_type": "markdown",
   "id": "eac125c0-40c9-4530-8c5d-12bf9fd8e9f4",
   "metadata": {},
   "source": [
    "Programming Excercises - Question 2"
   ]
  },
  {
   "cell_type": "code",
   "execution_count": 23,
   "id": "0970a601-5c4b-48ae-86c3-9b60ea59275f",
   "metadata": {},
   "outputs": [
    {
     "ename": "TypeError",
     "evalue": "unsupported operand type(s) for +=: 'int' and 'str'",
     "output_type": "error",
     "traceback": [
      "\u001b[0;31m---------------------------------------------------------------------------\u001b[0m",
      "\u001b[0;31mTypeError\u001b[0m                                 Traceback (most recent call last)",
      "Cell \u001b[0;32mIn[23], line 15\u001b[0m\n\u001b[1;32m     13\u001b[0m \u001b[38;5;66;03m# Example usage:\u001b[39;00m\n\u001b[1;32m     14\u001b[0m user_input \u001b[38;5;241m=\u001b[39m \u001b[38;5;124m\"\u001b[39m\u001b[38;5;124m2514\u001b[39m\u001b[38;5;124m\"\u001b[39m\n\u001b[0;32m---> 15\u001b[0m \u001b[38;5;28mprint\u001b[39m(sum_of_digits(user_input))\n",
      "Cell \u001b[0;32mIn[23], line 9\u001b[0m, in \u001b[0;36msum_of_digits\u001b[0;34m(digit_string)\u001b[0m\n\u001b[1;32m      6\u001b[0m \u001b[38;5;66;03m# Iterate over each character in the string\u001b[39;00m\n\u001b[1;32m      7\u001b[0m \u001b[38;5;28;01mfor\u001b[39;00m char \u001b[38;5;129;01min\u001b[39;00m digit_string:\n\u001b[1;32m      8\u001b[0m     \u001b[38;5;66;03m# Add the character to the sum without converting to an integer\u001b[39;00m\n\u001b[0;32m----> 9\u001b[0m     total_sum \u001b[38;5;241m+\u001b[39m\u001b[38;5;241m=\u001b[39m char\n\u001b[1;32m     11\u001b[0m \u001b[38;5;28;01mreturn\u001b[39;00m total_sum\n",
      "\u001b[0;31mTypeError\u001b[0m: unsupported operand type(s) for +=: 'int' and 'str'"
     ]
    }
   ],
   "source": [
    "def sum_of_digits(digit_string):\n",
    "    \n",
    "    # Initialize the sum to 0\n",
    "    total_sum = 0\n",
    "    \n",
    "    # Iterate over each character in the string\n",
    "    for char in digit_string:\n",
    "        # Add the character to the sum without converting to an integer\n",
    "        total_sum += char\n",
    "    \n",
    "    return total_sum\n",
    "\n",
    "# Example usage:\n",
    "user_input = \"2514\"\n",
    "print(sum_of_digits(user_input))  # Expected: 12\n"
   ]
  },
  {
   "cell_type": "markdown",
   "id": "504e5444-a3f8-4a9a-8053-2212fa616eaf",
   "metadata": {},
   "source": [
    "I realized pretty quickly that the code tries to attempt to add characters directly to the sum without converting them to integers. In the version below its fixed."
   ]
  },
  {
   "cell_type": "code",
   "execution_count": 24,
   "id": "27cfe40a-83c6-4ac6-84cc-af3896cad56d",
   "metadata": {},
   "outputs": [
    {
     "name": "stdout",
     "output_type": "stream",
     "text": [
      "12\n"
     ]
    }
   ],
   "source": [
    "def sum_of_digits(digit_string):\n",
    "\n",
    "    # Initialize the sum to 0\n",
    "    total_sum = 0\n",
    "    \n",
    "    # Iterate over each character in the string\n",
    "    for char in digit_string:\n",
    "        # Convert the character to an integer and add it to the sum\n",
    "        total_sum += int(char)\n",
    "    \n",
    "    return total_sum\n",
    "\n",
    "# Example usage:\n",
    "user_input = \"2514\"\n",
    "print(sum_of_digits(user_input))  # Output: 12"
   ]
  },
  {
   "cell_type": "markdown",
   "id": "6a90fa4a-251c-4c00-87db-9d81aa08a441",
   "metadata": {},
   "source": [
    "First define the functionm then accept the parameter while also initializing a variable and iterating over each character. Then I converted each character to an integer and add it to 'total_sum'. Additionally return the total sum after iterating over all the characters. Lastly you use the function by passing a string of digits and printing the result."
   ]
  },
  {
   "cell_type": "markdown",
   "id": "55acfd66-776f-479a-8c41-bb57db82a318",
   "metadata": {},
   "source": [
    "Programming Excercise - Question 10 "
   ]
  },
  {
   "cell_type": "code",
   "execution_count": 25,
   "id": "925ca972-2f2f-47cf-91f5-6cfb35972afc",
   "metadata": {},
   "outputs": [
    {
     "ename": "KeyError",
     "evalue": "'h'",
     "output_type": "error",
     "traceback": [
      "\u001b[0;31m---------------------------------------------------------------------------\u001b[0m",
      "\u001b[0;31mKeyError\u001b[0m                                  Traceback (most recent call last)",
      "Cell \u001b[0;32mIn[25], line 18\u001b[0m\n\u001b[1;32m     16\u001b[0m \u001b[38;5;66;03m# Example usage:\u001b[39;00m\n\u001b[1;32m     17\u001b[0m user_input \u001b[38;5;241m=\u001b[39m \u001b[38;5;124m\"\u001b[39m\u001b[38;5;124mhello world\u001b[39m\u001b[38;5;124m\"\u001b[39m\n\u001b[0;32m---> 18\u001b[0m \u001b[38;5;28mprint\u001b[39m(most_frequent_character(user_input))\n",
      "Cell \u001b[0;32mIn[25], line 9\u001b[0m, in \u001b[0;36mmost_frequent_character\u001b[0;34m(input_string)\u001b[0m\n\u001b[1;32m      6\u001b[0m \u001b[38;5;66;03m# Iterate over each character in the string\u001b[39;00m\n\u001b[1;32m      7\u001b[0m \u001b[38;5;28;01mfor\u001b[39;00m char \u001b[38;5;129;01min\u001b[39;00m input_string:\n\u001b[1;32m      8\u001b[0m     \u001b[38;5;66;03m# Increment the count for the character without checking if it exists\u001b[39;00m\n\u001b[0;32m----> 9\u001b[0m     char_count[char] \u001b[38;5;241m+\u001b[39m\u001b[38;5;241m=\u001b[39m \u001b[38;5;241m1\u001b[39m\n\u001b[1;32m     11\u001b[0m \u001b[38;5;66;03m# Find the character with the maximum frequency\u001b[39;00m\n\u001b[1;32m     12\u001b[0m most_frequent \u001b[38;5;241m=\u001b[39m \u001b[38;5;28mmax\u001b[39m(char_count, key\u001b[38;5;241m=\u001b[39mchar_count\u001b[38;5;241m.\u001b[39mget)\n",
      "\u001b[0;31mKeyError\u001b[0m: 'h'"
     ]
    }
   ],
   "source": [
    "def most_frequent_character(input_string):\n",
    "    \n",
    "    # Initialize an empty dictionary for character counts\n",
    "    char_count = {}\n",
    "    \n",
    "    # Iterate over each character in the string\n",
    "    for char in input_string:\n",
    "        # Increment the count for the character without checking if it exists\n",
    "        char_count[char] += 1\n",
    "    \n",
    "    # Find the character with the maximum frequency\n",
    "    most_frequent = max(char_count, key=char_count.get)\n",
    "    \n",
    "    return most_frequent\n",
    "\n",
    "# Example usage:\n",
    "user_input = \"hello world\"\n",
    "print(most_frequent_character(user_input))  # Expected: l"
   ]
  },
  {
   "cell_type": "markdown",
   "id": "942f426f-54c2-428c-862e-95a2301b3618",
   "metadata": {},
   "source": [
    "it looks like the code attempts to increment the count of the character without checking if it exists in the dictionary. If the character is not in the dictionary, this will result in a key error, "
   ]
  },
  {
   "cell_type": "code",
   "execution_count": 26,
   "id": "3ebe063f-c87d-41e6-a5d1-269e5af12d76",
   "metadata": {},
   "outputs": [
    {
     "ename": "TypeError",
     "evalue": "list indices must be integers or slices, not str",
     "output_type": "error",
     "traceback": [
      "\u001b[0;31m---------------------------------------------------------------------------\u001b[0m",
      "\u001b[0;31mTypeError\u001b[0m                                 Traceback (most recent call last)",
      "Cell \u001b[0;32mIn[26], line 20\u001b[0m\n\u001b[1;32m     18\u001b[0m \u001b[38;5;66;03m# Example usage:\u001b[39;00m\n\u001b[1;32m     19\u001b[0m user_input \u001b[38;5;241m=\u001b[39m \u001b[38;5;124m\"\u001b[39m\u001b[38;5;124mhello world\u001b[39m\u001b[38;5;124m\"\u001b[39m\n\u001b[0;32m---> 20\u001b[0m \u001b[38;5;28mprint\u001b[39m(most_frequent_character(user_input))\n",
      "Cell \u001b[0;32mIn[26], line 11\u001b[0m, in \u001b[0;36mmost_frequent_character\u001b[0;34m(input_string)\u001b[0m\n\u001b[1;32m      9\u001b[0m         char_count[char] \u001b[38;5;241m+\u001b[39m\u001b[38;5;241m=\u001b[39m \u001b[38;5;241m1\u001b[39m\n\u001b[1;32m     10\u001b[0m     \u001b[38;5;28;01melse\u001b[39;00m:\n\u001b[0;32m---> 11\u001b[0m         char_count[char] \u001b[38;5;241m=\u001b[39m \u001b[38;5;241m1\u001b[39m\n\u001b[1;32m     13\u001b[0m \u001b[38;5;66;03m# Find the character with the maximum frequency\u001b[39;00m\n\u001b[1;32m     14\u001b[0m most_frequent \u001b[38;5;241m=\u001b[39m \u001b[38;5;28mmax\u001b[39m(char_count, key\u001b[38;5;241m=\u001b[39mchar_count\u001b[38;5;241m.\u001b[39mget)\n",
      "\u001b[0;31mTypeError\u001b[0m: list indices must be integers or slices, not str"
     ]
    }
   ],
   "source": [
    "def most_frequent_character(input_string):\n",
    "   \n",
    "    # Initialize an empty list for character counts\n",
    "    char_count = []\n",
    "    \n",
    "    # Iterate over each character in the string\n",
    "    for char in input_string:\n",
    "        if char in char_count:\n",
    "            char_count[char] += 1\n",
    "        else:\n",
    "            char_count[char] = 1\n",
    "    \n",
    "    # Find the character with the maximum frequency\n",
    "    most_frequent = max(char_count, key=char_count.get)\n",
    "    \n",
    "    return most_frequent\n",
    "\n",
    "# Example usage:\n",
    "user_input = \"hello world\"\n",
    "print(most_frequent_character(user_input))  # Expected: l"
   ]
  },
  {
   "cell_type": "markdown",
   "id": "f8260788-4d05-428b-8a05-8e524f44aef2",
   "metadata": {},
   "source": [
    "Another problem I found out was there was that the code uses a list instead of a dictionary to count the characters. Lists cannot be indexed by characters. "
   ]
  },
  {
   "cell_type": "code",
   "execution_count": 27,
   "id": "ef002a82-5750-49e8-8e2b-bd807dad5369",
   "metadata": {},
   "outputs": [
    {
     "name": "stdout",
     "output_type": "stream",
     "text": [
      "l\n"
     ]
    }
   ],
   "source": [
    "def most_frequent_character(input_string):\n",
    "    \n",
    "    # Dictionary to count the frequency of each character\n",
    "    char_count = {}\n",
    "    \n",
    "    # Iterate over each character in the string\n",
    "    for char in input_string:\n",
    "        if char in char_count:\n",
    "            char_count[char] += 1\n",
    "        else:\n",
    "            char_count[char] = 1\n",
    "    \n",
    "    # Find the character with the maximum frequency\n",
    "    most_frequent = max(char_count, key=char_count.get)\n",
    "    \n",
    "    return most_frequent\n",
    "\n",
    "# Example usage:\n",
    "user_input = \"hello world\"\n",
    "print(most_frequent_character(user_input))  # Output: l"
   ]
  },
  {
   "cell_type": "markdown",
   "id": "87dd0669-e54a-4bc7-be52-b118e76393b7",
   "metadata": {},
   "source": [
    "Using the word hello world as our reference we can determine that the letter 'l' should be the most used letter in in that string since theres 2 'l's and one of every other letter. Firstly, like all the other programs being ran we have to define a function, so we do. Find and accept the parameters; after we do this, we initializ a dictionary and make sure to iterate over each character. Also make sure to update the count for each character in said inventory. Lastly you find the character using the max function with 'key=char_count.get'. It the returns the most frequent character, in this case 'l'.  "
   ]
  },
  {
   "cell_type": "markdown",
   "id": "915b1549-178a-4c79-bf31-928ec49de437",
   "metadata": {},
   "source": [
    "Programming Excercises - Question 8 "
   ]
  },
  {
   "cell_type": "code",
   "execution_count": 28,
   "id": "213bc2e3-8884-4145-8a50-41dfaf723164",
   "metadata": {},
   "outputs": [
    {
     "name": "stdout",
     "output_type": "stream",
     "text": [
      "Hello. My name is joe. What is your name?\n"
     ]
    }
   ],
   "source": [
    "def sentence_capitalizer(input_string):\n",
    "    # Split the string into sentences using '.', '!', and '?' as delimiters\n",
    "    import re\n",
    "    sentences = re.split('([.!?] *)', input_string)\n",
    "    \n",
    "    # Capitalize the first character of each sentence\n",
    "    capitalized_sentences = [s.capitalize() for s in sentences]\n",
    "    \n",
    "    # Join the sentences back together\n",
    "    return ''.join(capitalized_sentences)\n",
    "\n",
    "# Example usage:\n",
    "user_input = \"hello. my name is Joe. what is your name?\"\n",
    "print(sentence_capitalizer(user_input))  # Output: \"Hello. My name is Joe. What is your name?\""
   ]
  },
  {
   "cell_type": "markdown",
   "id": "6f0cc3ba-f593-4631-b773-67b37bf1c84e",
   "metadata": {},
   "source": [
    "As you can clearly see every first letter of the sentence is Capitalized. To capitalize the first character of each sentence in a string, define a function `sentence_capitalizer` that uses regular expressions to split the input string at punctuation marks while preserving these delimiters. Then, capitalize the first character of each segment with a list comprehension and bring them back together. For example, given the string \"hello. my name is Joe. what is your name?\", the function will return \"Hello. My name is Joe. What is your name?\". This method ensures each sentence starts with a capital letter. "
   ]
  }
 ],
 "metadata": {
  "kernelspec": {
   "display_name": "Python 3 (ipykernel)",
   "language": "python",
   "name": "python3"
  },
  "language_info": {
   "codemirror_mode": {
    "name": "ipython",
    "version": 3
   },
   "file_extension": ".py",
   "mimetype": "text/x-python",
   "name": "python",
   "nbconvert_exporter": "python",
   "pygments_lexer": "ipython3",
   "version": "3.11.7"
  }
 },
 "nbformat": 4,
 "nbformat_minor": 5
}
