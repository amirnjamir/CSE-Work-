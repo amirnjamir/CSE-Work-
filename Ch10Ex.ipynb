{
 "cells": [
  {
   "cell_type": "markdown",
   "id": "d51ce4ee-e6f0-4719-8c14-51072343b78d",
   "metadata": {},
   "source": [
    "Programming Excercises - (Question 4 & 5)"
   ]
  },
  {
   "cell_type": "markdown",
   "id": "3665c023-1cd3-412a-bc7f-d044cbb96cca",
   "metadata": {},
   "source": [
    "Programming Excersises - Question 4"
   ]
  },
  {
   "cell_type": "code",
   "execution_count": 3,
   "id": "c6653b16-fef2-44fb-a7a7-176abbf43d7b",
   "metadata": {},
   "outputs": [
    {
     "ename": "SyntaxError",
     "evalue": "invalid syntax (1146836554.py, line 9)",
     "output_type": "error",
     "traceback": [
      "\u001b[1;36m  Cell \u001b[1;32mIn[3], line 9\u001b[1;36m\u001b[0m\n\u001b[1;33m    return: f\"Name: (self.name), ID Number: (self.id_number), Department: (self_department), Job Title: (self.job_title)\"\u001b[0m\n\u001b[1;37m          ^\u001b[0m\n\u001b[1;31mSyntaxError\u001b[0m\u001b[1;31m:\u001b[0m invalid syntax\n"
     ]
    }
   ],
   "source": [
    "class Employee: \n",
    "    def __int__(self, name, id_number, department, job_title): \n",
    "        self.name = name\n",
    "        self.id_number = id_number \n",
    "        self.department = department\n",
    "        self.job_title = job_title #Using the self and init functions to continue this on to string representation\n",
    "\n",
    "    def str(self): \n",
    "        return: f\"Name: (self.name), ID Number: (self.id_number), Department: (self_department), Job Title: (self.job_title)\"\n",
    "\n",
    "employee1 = Employee(\"Susan Meyers\", 47899, \"Accounting\", \"Vice President\")\n",
    "employee2 = Employee(\"Mark Jones\", 39119, \"IT\", \"Programmer\")\n",
    "employee3 = Employee(\"Joy Rogers\", 81774, \"Manufacturing\", \"Engineer\") #Each Unique to their own Employee\n",
    "\n",
    "#Print the details of each employee\n",
    "print(employee1)\n",
    "print(employee2)\n",
    "print(employee3)"
   ]
  },
  {
   "cell_type": "code",
   "execution_count": null,
   "id": "d067864c-6970-453f-86d3-d3b00f1de0a3",
   "metadata": {},
   "outputs": [],
   "source": [
    "At first I missed a space after definig the function. "
   ]
  },
  {
   "cell_type": "code",
   "execution_count": 7,
   "id": "ca496538-c6c2-493b-beb0-c8fd62c1a2a3",
   "metadata": {},
   "outputs": [
    {
     "ename": "SyntaxError",
     "evalue": "invalid syntax (2099158859.py, line 9)",
     "output_type": "error",
     "traceback": [
      "\u001b[1;36m  Cell \u001b[1;32mIn[7], line 9\u001b[1;36m\u001b[0m\n\u001b[1;33m    return: f\"Name: (self.name), ID Number: (self.id_number), Department: (self_department), Job Title: (self.job_title)\"\u001b[0m\n\u001b[1;37m          ^\u001b[0m\n\u001b[1;31mSyntaxError\u001b[0m\u001b[1;31m:\u001b[0m invalid syntax\n"
     ]
    }
   ],
   "source": [
    "class Employee: \n",
    "    def __int__(self, name, id_number, department, job_title): \n",
    "        self.name = name\n",
    "        self.id_number = id_number \n",
    "        self.department = department\n",
    "        self.job_title = job_title #Using the self and init functions to continue this on to string representation\n",
    "\n",
    "    def __str__(self): \n",
    "        return: f\"Name: (self.name), ID Number: (self.id_number), Department: (self_department), Job Title: (self.job_title)\"\n",
    "\n",
    "#Create three Employee Objects\n",
    "employee1 = Employee(\"Susan Meyers\", 47899, \"Accounting\", \"Vice President\")\n",
    "employee2 = Employee(\"Mark Jones\", 39119, \"IT\", \"Programmer\")\n",
    "employee3 = Employee(\"Joy Rogers\", 81774, \"Manufacturing\", \"Engineer\") #Each Unique to their own Employee\n",
    "\n",
    "#Print the details of each employee\n",
    "print(employee1)\n",
    "print(employee2)\n",
    "print(employee3)"
   ]
  },
  {
   "cell_type": "code",
   "execution_count": null,
   "id": "be596d1d-cd55-45db-99c8-9cc691c263ba",
   "metadata": {},
   "outputs": [],
   "source": [
    "I also missed the underscores for the string reconstruction. Additinally had to  write a few more comments; "
   ]
  },
  {
   "cell_type": "code",
   "execution_count": 11,
   "id": "df4f15fa-80ad-4c8f-884f-91778d99a830",
   "metadata": {},
   "outputs": [
    {
     "name": "stdout",
     "output_type": "stream",
     "text": [
      "Name: Susan Meyers, ID Number: 47899, Department: Accounting, Job Title: Vice President\n",
      "Name: Mark Jones, ID Number: 39119, Department: IT, Job Title: Programmer\n",
      "Name: Joy Rogers, ID Number: 81774, Department: Manufacturing, Job Title: Engineer\n"
     ]
    }
   ],
   "source": [
    "class Employee:\n",
    "    def __init__(self, name, id_number, department, job_title):\n",
    "        self.name = name\n",
    "        self.id_number = id_number\n",
    "        self.department = department\n",
    "        self.job_title = job_title\n",
    "\n",
    "    def __str__(self):\n",
    "        return f\"Name: {self.name}, ID Number: {self.id_number}, Department: {self.department}, Job Title: {self.job_title}\"\n",
    "\n",
    "# Create three Employee objects\n",
    "employee1 = Employee(\"Susan Meyers\", 47899, \"Accounting\", \"Vice President\")\n",
    "employee2 = Employee(\"Mark Jones\", 39119, \"IT\", \"Programmer\")\n",
    "employee3 = Employee(\"Joy Rogers\", 81774, \"Manufacturing\", \"Engineer\")\n",
    "\n",
    "# Print the details of each employee\n",
    "print(employee1)\n",
    "print(employee2)\n",
    "print(employee3)"
   ]
  },
  {
   "cell_type": "markdown",
   "id": "abb6fea8-3754-47c0-a124-60f3adf8ba71",
   "metadata": {},
   "source": [
    "I missed a small mistake in which i left a colon which gave me a synatx error. For Question 4, define a class named employee using the init method to get the names lined up. Secondly, the initialization takes place which eventually leads to the string representation which makes it easier to print the details of each employee. You then create three objects of the 'Employee' class, that each represents an employee with their name, ID #, their department, and job title. Ultimately you simply print the details. "
   ]
  },
  {
   "cell_type": "markdown",
   "id": "1bf1530f-c401-4177-99a3-247d6879f7cc",
   "metadata": {},
   "source": [
    "Programming Excercises - Question 5"
   ]
  },
  {
   "cell_type": "code",
   "execution_count": 13,
   "id": "4e5400e7-637c-4655-aabf-bde170e8c2b1",
   "metadata": {},
   "outputs": [
    {
     "name": "stdout",
     "output_type": "stream",
     "text": [
      "Description: Jacket, Units in Inventory: 12, Price: 59.95\n",
      "Description: Designer Jeans, Units in Inventory: 40, Price: 34.95\n",
      "Description: Shirt, Units in Inventory: 20, Price: 24.95\n"
     ]
    }
   ],
   "source": [
    "class RetailItem: \n",
    "    def __init__(self, description, units, price):\n",
    "        self.description = description\n",
    "        self.units = units \n",
    "        self.price = price #Self and init function just like question 4 \n",
    "\n",
    "    def __str__(self):\n",
    "        return f\"Description: {self.description}, Units in Inventory: {self.units}, Price: {self.price}\"\n",
    "\n",
    "#Create three RetailItem objects\n",
    "item1 = RetailItem(\"Jacket\", 12, 59.95)\n",
    "item2 = RetailItem(\"Designer Jeans\", 40, 34.95)\n",
    "item3 = RetailItem(\"Shirt\", 20, 24.95) #Unique to the employee \n",
    "\n",
    "#Print the details of each item\n",
    "print(item1)\n",
    "print(item2)\n",
    "print(item3)"
   ]
  },
  {
   "cell_type": "markdown",
   "id": "459feb0f-a8df-4067-b2b3-61e6a7595e98",
   "metadata": {},
   "source": [
    "At first I had a small minor spelling mistake but that was quickly fixed if you look atr the snagit video. Pretty much the same thing for Question 4 (I used it as a sort of outline once I fot the hang of it): First we define a class named :RetailItem and uses an __init__ item to describe  its different sets(or topics) like \"description, units, and price\". That same method(init) sets the values for each instance of the 'RetailItem' class when something new is created. We then use the idea of string representation, whic really just makes it easier to print the details of each invdivdual item. Furthermore, we create three 'items' of the 'RetailItem' Class, that each have their own description. Lastly we print out each item one by one on a new line to make it look more clean "
   ]
  }
 ],
 "metadata": {
  "kernelspec": {
   "display_name": "Python 3 (ipykernel)",
   "language": "python",
   "name": "python3"
  },
  "language_info": {
   "codemirror_mode": {
    "name": "ipython",
    "version": 3
   },
   "file_extension": ".py",
   "mimetype": "text/x-python",
   "name": "python",
   "nbconvert_exporter": "python",
   "pygments_lexer": "ipython3",
   "version": "3.11.7"
  }
 },
 "nbformat": 4,
 "nbformat_minor": 5
}
