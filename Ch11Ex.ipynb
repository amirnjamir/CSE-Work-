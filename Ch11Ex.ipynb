{
 "cells": [
  {
   "cell_type": "markdown",
   "id": "04f8790b-03af-4868-a3ef-6688789ce021",
   "metadata": {},
   "source": [
    "Programming Excercises - Questions 2 & 3"
   ]
  },
  {
   "cell_type": "markdown",
   "id": "e38155a9-2dbe-41f8-b62a-0ccbfae6b878",
   "metadata": {},
   "source": [
    "Programming Excercises - Question 2 "
   ]
  },
  {
   "cell_type": "code",
   "execution_count": 1,
   "id": "40480626-a107-414a-b21b-2882566a586e",
   "metadata": {},
   "outputs": [
    {
     "ename": "SyntaxError",
     "evalue": "unterminated string literal (detected at line 20) (2954505407.py, line 20)",
     "output_type": "error",
     "traceback": [
      "\u001b[1;36m  Cell \u001b[1;32mIn[1], line 20\u001b[1;36m\u001b[0m\n\u001b[1;33m    shift_supervisor = ShiftSupervisor(\"Jane Smith\", A12345\", 75000, 5000)\u001b[0m\n\u001b[1;37m                                                           ^\u001b[0m\n\u001b[1;31mSyntaxError\u001b[0m\u001b[1;31m:\u001b[0m unterminated string literal (detected at line 20)\n"
     ]
    }
   ],
   "source": [
    "class Employee: \n",
    "    def __init__(self, name, employee_id):\n",
    "        #Initialize employee's name and ID\n",
    "        self.name = name\n",
    "        self.employee_id = employee_id\n",
    "\n",
    "    def display_info(self):\n",
    "        #Return employee's basic information \n",
    "        return f\"Name: {slef.name}, Employee ID: {self,employee_id}\"\n",
    "\n",
    "class ShiftSupervisor(Employee): \n",
    "    def__init__(self, name, employee_id, annual salary, annual_production_bonus):\n",
    "    #Initialize inherited attributes using the superclass constructor \n",
    "    super().__init__(name, employee_id)\n",
    "    #Initialize shift supervisor-specific attributes \n",
    "    self.annual_salary = annual_salary \n",
    "    self.annual_production_bonus = annual_production_bonus\n",
    "\n",
    "#Create an instance of the ShiftSupervisor class and print the information\n",
    "shift_supervisor = ShiftSupervisor(\"Jane Smith\", A12345\", 75000, 5000)\n",
    "print(shift_supervisor.display_info()))"
   ]
  },
  {
   "cell_type": "code",
   "execution_count": 2,
   "id": "51c3b967-3cd9-47ac-b18e-1abedb01ad94",
   "metadata": {},
   "outputs": [
    {
     "ename": "SyntaxError",
     "evalue": "unmatched ')' (4193856112.py, line 21)",
     "output_type": "error",
     "traceback": [
      "\u001b[1;36m  Cell \u001b[1;32mIn[2], line 21\u001b[1;36m\u001b[0m\n\u001b[1;33m    print(shift_supervisor.display_info()))\u001b[0m\n\u001b[1;37m                                          ^\u001b[0m\n\u001b[1;31mSyntaxError\u001b[0m\u001b[1;31m:\u001b[0m unmatched ')'\n"
     ]
    }
   ],
   "source": [
    "class Employee: \n",
    "    def __init__(self, name, employee_id):\n",
    "        #Initialize employee's name and ID\n",
    "        self.name = name\n",
    "        self.employee_id = employee_id\n",
    "\n",
    "    def display_info(self):\n",
    "        #Return employee's basic information \n",
    "        return f\"Name: {slef.name}, Employee ID: {self,employee_id}\"\n",
    "\n",
    "class ShiftSupervisor(Employee): \n",
    "    def__init__(self, name, employee_id, annual salary, annual_production_bonus):\n",
    "    #Initialize inherited attributes using the superclass constructor \n",
    "    super().__init__(name, employee_id)\n",
    "    #Initialize shift supervisor-specific attributes \n",
    "    self.annual_salary = annual_salary \n",
    "    self.annual_production_bonus = annual_production_bonus\n",
    "\n",
    "#Create an instance of the ShiftSupervisor class and print the information\n",
    "shift_supervisor = ShiftSupervisor(\"Jane Smith\", \"A12345\", 75000, 5000)\n",
    "print(shift_supervisor.display_info()))"
   ]
  },
  {
   "cell_type": "markdown",
   "id": "4deaf3d2-9060-47b1-9306-c3445daa1771",
   "metadata": {},
   "source": [
    "I forgot to even make the part for the display info"
   ]
  },
  {
   "cell_type": "code",
   "execution_count": 10,
   "id": "e9a648d3-29e5-435f-8244-84ebdd2bfd62",
   "metadata": {},
   "outputs": [
    {
     "name": "stdout",
     "output_type": "stream",
     "text": [
      "Name: Jane Smith, Employee ID: A12345, Annual Salary: $75000, Annual Production Bonus: $5000\n"
     ]
    }
   ],
   "source": [
    "class Employee: \n",
    "    def __init__(self, name, employee_id):\n",
    "        #Initialize employee's name and ID\n",
    "        self.name = name\n",
    "        self.employee_id = employee_id\n",
    "\n",
    "    def display_info(self):\n",
    "        #Return employee's basic information \n",
    "        return f\"Name: {self.name}, Employee ID: {self.employee_id}\"\n",
    "\n",
    "class ShiftSupervisor(Employee): \n",
    "    def __init__(self, name, employee_id, annual_salary, annual_production_bonus):\n",
    "    #Initialize inherited attributes using the superclass constructor \n",
    "        super().__init__(name, employee_id)\n",
    "        #Initialize shift supervisor-specific attributes \n",
    "        self.annual_salary = annual_salary \n",
    "        self.annual_production_bonus = annual_production_bonus\n",
    "\n",
    "    def display_info(self): \n",
    "        #Return shift supervisor's information, including inherited and new attributes \n",
    "        return f\"{super().display_info()}, Annual Salary: ${self.annual_salary}, Annual Production Bonus: ${self.annual_production_bonus}\"\n",
    "\n",
    "\n",
    "#Create an instance of the ShiftSupervisor class and print the information\n",
    "shift_supervisor = ShiftSupervisor(\"Jane Smith\", \"A12345\", 75000, 5000)\n",
    "print(shift_supervisor.display_info())"
   ]
  },
  {
   "cell_type": "markdown",
   "id": "0d3c1c3e-b4cf-4c8b-8f31-966e0395be74",
   "metadata": {},
   "source": [
    "In the Snagit Recording you can see many of my mistake were things like indenation blocks, and mispelling which I can think shows how fragile coding is and how careful you have to be with it. Nonetheless, to create the 'ShiftSupervisor' class, I started by defining an 'Employee' class with attributes for name and ID, including a method to display this information. I then created the 'ShiftSupervisor' class as a subclass of 'Employee', inherting its attributes and methods. In 'ShiftSupervisor', I added 'annual_salary' and 'annual_production_bonus' attributes and included a method to display its specific information. Finally, I demonstrated the class by creating an instance and printing its details to show how inheritacnce works and adds unique attributes."
   ]
  },
  {
   "cell_type": "markdown",
   "id": "9818b44a-7ae4-4146-ac98-a485898165eb",
   "metadata": {},
   "source": [
    "Programming Excercise - Question 3 "
   ]
  },
  {
   "cell_type": "code",
   "execution_count": 12,
   "id": "58325a97-1724-4058-86a5-214abd186cd1",
   "metadata": {},
   "outputs": [
    {
     "ename": "TypeError",
     "evalue": "object.__init__() takes exactly one argument (the instance to initialize)",
     "output_type": "error",
     "traceback": [
      "\u001b[1;31m---------------------------------------------------------------------------\u001b[0m",
      "\u001b[1;31mTypeError\u001b[0m                                 Traceback (most recent call last)",
      "Cell \u001b[1;32mIn[12], line 27\u001b[0m\n\u001b[0;32m     23\u001b[0m         \u001b[38;5;28;01mreturn\u001b[39;00m \u001b[38;5;124mf\u001b[39m\u001b[38;5;124m\"\u001b[39m\u001b[38;5;132;01m{\u001b[39;00m\u001b[38;5;28msuper\u001b[39m()\u001b[38;5;241m.\u001b[39mdisplay_info()\u001b[38;5;132;01m}\u001b[39;00m\u001b[38;5;124m, Customer Number: \u001b[39m\u001b[38;5;132;01m{\u001b[39;00m\u001b[38;5;28mself\u001b[39m\u001b[38;5;241m.\u001b[39mcustomer_number\u001b[38;5;132;01m}\u001b[39;00m\u001b[38;5;124m, Mailing List: \u001b[39m\u001b[38;5;132;01m{\u001b[39;00mmailing_list_status\u001b[38;5;132;01m}\u001b[39;00m\u001b[38;5;124m\"\u001b[39m\n\u001b[0;32m     26\u001b[0m \u001b[38;5;66;03m#Create an instance of the Customerand print the information\u001b[39;00m\n\u001b[1;32m---> 27\u001b[0m customer \u001b[38;5;241m=\u001b[39m Customer(\u001b[38;5;124m\"\u001b[39m\u001b[38;5;124mJohn Doe\u001b[39m\u001b[38;5;124m\"\u001b[39m, \u001b[38;5;124m\"\u001b[39m\u001b[38;5;124m123 Main St\u001b[39m\u001b[38;5;124m\"\u001b[39m, \u001b[38;5;124m\"\u001b[39m\u001b[38;5;124m555-1234\u001b[39m\u001b[38;5;124m\"\u001b[39m, \u001b[38;5;241m12345\u001b[39m, \u001b[38;5;28;01mTrue\u001b[39;00m)\n\u001b[0;32m     28\u001b[0m \u001b[38;5;28mprint\u001b[39m(customer\u001b[38;5;241m.\u001b[39mdisplay_info())\n",
      "Cell \u001b[1;32mIn[12], line 15\u001b[0m, in \u001b[0;36mCustomer.__init__\u001b[1;34m(self, name, address, phone_number, customer_number, mailing_list)\u001b[0m\n\u001b[0;32m     13\u001b[0m \u001b[38;5;28;01mdef\u001b[39;00m \u001b[38;5;21m__init__\u001b[39m(\u001b[38;5;28mself\u001b[39m, name, address, phone_number, customer_number, mailing_list):\n\u001b[0;32m     14\u001b[0m     \u001b[38;5;66;03m#Initialize inherited attributes using the superclass constructor\u001b[39;00m\n\u001b[1;32m---> 15\u001b[0m     \u001b[38;5;28msuper\u001b[39m()\u001b[38;5;241m.\u001b[39m\u001b[38;5;21m__init__\u001b[39m(name, address, phone_number)\n\u001b[0;32m     17\u001b[0m     \u001b[38;5;28mself\u001b[39m\u001b[38;5;241m.\u001b[39mcustomer_number \u001b[38;5;241m=\u001b[39m customer_number\n\u001b[0;32m     18\u001b[0m     \u001b[38;5;28mself\u001b[39m\u001b[38;5;241m.\u001b[39mmailinglist \u001b[38;5;241m=\u001b[39m mailing_list\n",
      "\u001b[1;31mTypeError\u001b[0m: object.__init__() takes exactly one argument (the instance to initialize)"
     ]
    }
   ],
   "source": [
    "class Person:\n",
    "    def __init_(self, name, address, phone_number):\n",
    "        #Initialize person's name, address, and phone number \n",
    "        self.name = name \n",
    "        self.address = address\n",
    "        self.phone_number = phone_number \n",
    "    def display_info(self):\n",
    "        #Return person's information to a string \n",
    "        return f\"Name: {self.name}, Address: {self.address}, Phone: {self.phone_number}\" \n",
    "\n",
    "\n",
    "class Customer(Person):\n",
    "    def __init__(self, name, address, phone_number, customer_number, mailing_list):\n",
    "        #Initialize inherited attributes using the superclass constructor\n",
    "        super().__init__(name, address, phone_number)\n",
    "\n",
    "        self.customer_number = customer_number\n",
    "        self.mailinglist = mailing_list\n",
    "\n",
    "    def display_info(self):\n",
    "        mailing_list_status = \"Yes\" if self.mailing_list else \"No\"\n",
    "        #Return customer information, including inherited and new attributes \n",
    "        return f\"{super().display_info()}, Customer Number: {self.customer_number}, Mailing List: {mailing_list_status}\"\n",
    "\n",
    "\n",
    "#Create an instance of the Customerand print the information\n",
    "customer = Customer(\"John Doe\", \"123 Main St\", \"555-1234\", 12345, True)\n",
    "print(customer.display_info())"
   ]
  },
  {
   "cell_type": "code",
   "execution_count": 28,
   "id": "783eb3d6-7e08-402e-bdbb-d142e42af402",
   "metadata": {},
   "outputs": [
    {
     "name": "stdout",
     "output_type": "stream",
     "text": [
      "Name: John Doe, Address: 123 Main St, Phone: 555-1234, Customer Number: 12345, Mailing List: Yes\n"
     ]
    }
   ],
   "source": [
    "class Person:\n",
    "    def __init__(self, name, address, phone_number):\n",
    "        #Initialize person's name, address, and phone number \n",
    "        self.name = name \n",
    "        self.address = address\n",
    "        self.phone_number = phone_number \n",
    "   \n",
    "    def display_info(self):\n",
    "        #Return person's information to a string \n",
    "        return f\"Name: {self.name}, Address: {self.address}, Phone: {self.phone_number}\" \n",
    "\n",
    "\n",
    "class Customer(Person):\n",
    "    def __init__(self, name, address, phone_number, customer_number, mailing_list):\n",
    "        #Initialize inherited attributes using the superclass constructor\n",
    "        super().__init__(name, address, phone_number)\n",
    "\n",
    "        self.customer_number = customer_number\n",
    "        self.mailing_list = mailing_list\n",
    "\n",
    "    def display_info(self):\n",
    "        mailing_list_status = \"Yes\" if self.mailing_list else \"No\"\n",
    "        #Return customer information, including inherited and new attributes \n",
    "        return f\"{super().display_info()}, Customer Number: {self.customer_number}, Mailing List: {mailing_list_status}\"\n",
    "\n",
    "\n",
    "#Create an instance of the Customerand print the information\n",
    "customer = Customer(\"John Doe\", \"123 Main St\", \"555-1234\", 12345, True)\n",
    "print(customer.display_info())"
   ]
  },
  {
   "cell_type": "markdown",
   "id": "a3b89038-42d0-48ae-a4af-a622e90707a1",
   "metadata": {},
   "source": [
    "To create the 'Person' and 'Customer' classes, I defined the 'Person' class with attributes for name, address, and phone number, including a method to display this information. Then, I created the 'Customer' class as a subclass of 'Person', inheriting its attributes and methods. In 'Customer', I added 'customer_number' and 'mailing_list' attributes and a method to display its information. Finally, I demonstrated the 'Customer' class by creating an instance and printing its details, showing how inheritance and additional attributes work together. This approach ensures 'Customer' benefits from 'Person' while adding unique features."
   ]
  }
 ],
 "metadata": {
  "kernelspec": {
   "display_name": "Python 3 (ipykernel)",
   "language": "python",
   "name": "python3"
  },
  "language_info": {
   "codemirror_mode": {
    "name": "ipython",
    "version": 3
   },
   "file_extension": ".py",
   "mimetype": "text/x-python",
   "name": "python",
   "nbconvert_exporter": "python",
   "pygments_lexer": "ipython3",
   "version": "3.11.7"
  }
 },
 "nbformat": 4,
 "nbformat_minor": 5
}
